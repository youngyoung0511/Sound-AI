{
  "nbformat": 4,
  "nbformat_minor": 0,
  "metadata": {
    "colab": {
      "provenance": [],
      "gpuType": "T4",
      "authorship_tag": "ABX9TyPoJQ3uTF0LYyRXXkMU0gco",
      "include_colab_link": true
    },
    "kernelspec": {
      "name": "python3",
      "display_name": "Python 3"
    },
    "language_info": {
      "name": "python"
    },
    "accelerator": "GPU"
  },
  "cells": [
    {
      "cell_type": "markdown",
      "metadata": {
        "id": "view-in-github",
        "colab_type": "text"
      },
      "source": [
        "<a href=\"https://colab.research.google.com/github/youngyoung0511/Sound-AI/blob/main/250211_%EB%93%9C%EB%9F%BC%EC%B6%94%EC%B6%9C(demucs)_%EB%B3%B4%EC%A0%95.ipynb\" target=\"_parent\"><img src=\"https://colab.research.google.com/assets/colab-badge.svg\" alt=\"Open In Colab\"/></a>"
      ]
    },
    {
      "cell_type": "markdown",
      "source": [
        "## setting"
      ],
      "metadata": {
        "id": "Ygt77elBWTWm"
      }
    },
    {
      "cell_type": "code",
      "execution_count": null,
      "metadata": {
        "colab": {
          "base_uri": "https://localhost:8080/"
        },
        "id": "U72Kl0q6R2Qc",
        "outputId": "e1ab6c60-2e0f-4cb7-d3c6-8327259a4188"
      },
      "outputs": [
        {
          "output_type": "stream",
          "name": "stdout",
          "text": [
            "Mounted at /content/drive\n"
          ]
        }
      ],
      "source": [
        "from google.colab import drive\n",
        "drive.mount('/content/drive')"
      ]
    },
    {
      "cell_type": "code",
      "source": [
        "%%capture\n",
        "!pip install PyWavelets librosa matplotlib numpy\n",
        "import librosa\n",
        "import numpy as np\n",
        "import matplotlib.pyplot as plt\n",
        "import pywt\n"
      ],
      "metadata": {
        "id": "VHfHPMLQWG0D"
      },
      "execution_count": null,
      "outputs": []
    },
    {
      "cell_type": "code",
      "source": [
        "import numpy as np\n",
        "import librosa\n",
        "import matplotlib.pyplot as plt\n",
        "from scipy.signal import find_peaks"
      ],
      "metadata": {
        "id": "hS56xCOsWRtf"
      },
      "execution_count": null,
      "outputs": []
    },
    {
      "cell_type": "markdown",
      "source": [
        "'/content/drive/My Drive/soundAI/BoysLikeGirls.mp3'\n",
        "\n",
        "MagicCarpetRide_drum.mp3\n",
        "\n",
        "Every Day.mp3\n",
        "\n",
        "music.mp3 //꿈나라별나라"
      ],
      "metadata": {
        "id": "Wxu6kJV0WXue"
      }
    },
    {
      "cell_type": "code",
      "source": [
        "audio_path = '/content/drive/My Drive/soundAI/music.mp3'  # 여기에 mp3 파일 경로를 입력하세요\n",
        "y, sr = librosa.load(audio_path, sr=None)"
      ],
      "metadata": {
        "id": "sEwdwfy2WS4z"
      },
      "execution_count": null,
      "outputs": []
    },
    {
      "cell_type": "markdown",
      "source": [
        "## 1. demucs로 드럼 추출 후 고주파 강조 필터 추가 후 하이햇 강조"
      ],
      "metadata": {
        "id": "J7kyq24HWbhr"
      }
    },
    {
      "cell_type": "code",
      "source": [
        "%%capture\n",
        "!pip install demucs"
      ],
      "metadata": {
        "id": "rStVZ98DWagm"
      },
      "execution_count": null,
      "outputs": []
    },
    {
      "cell_type": "markdown",
      "source": [
        "고주파 강조 필터 추가 후 하이햇 강조"
      ],
      "metadata": {
        "id": "Md39JQRpb7co"
      }
    },
    {
      "cell_type": "markdown",
      "source": [
        "꿈나라 별나라"
      ],
      "metadata": {
        "id": "62aGBlGCh0cN"
      }
    },
    {
      "cell_type": "code",
      "source": [
        "import os\n",
        "import torch\n",
        "import torchaudio\n",
        "from scipy.signal import butter, filtfilt\n",
        "from demucs.pretrained import get_model\n",
        "from demucs.apply import apply_model\n",
        "\n",
        "# ✅ 1️⃣ 하이햇 강조 필터 함수\n",
        "def high_freq_boost(waveform, sr=44100, cutoff=5000, gain=1.5):\n",
        "    \"\"\" 하이햇 및 고주파 성분 강조를 위한 하이패스 필터 \"\"\"\n",
        "    b, a = butter(2, cutoff / (sr / 2), btype='high', analog=False)\n",
        "    boosted_waveform = filtfilt(b, a, waveform) * gain\n",
        "    return boosted_waveform\n",
        "\n",
        "# ✅ 2️⃣ 입력 및 출력 파일 경로 설정\n",
        "input_file = '/content/drive/My Drive/soundAI/music.mp3'\n",
        "output_dir = '/content/drive/My Drive/soundAI/music_separated_0211/'\n",
        "\n",
        "# ✅ 3️⃣ Hybrid Demucs 모델 로드\n",
        "device = 'cuda' if torch.cuda.is_available() else 'cpu'\n",
        "model = get_model('htdemucs').to(device)  # Hybrid Transformer Demucs\n",
        "\n",
        "# ✅ 4️⃣ 출력 디렉토리 생성\n",
        "os.makedirs(output_dir, exist_ok=True)\n",
        "\n",
        "# ✅ 5️⃣ 오디오 파일 로드\n",
        "waveform, sample_rate = torchaudio.load(input_file)\n",
        "waveform = waveform.to(device)  # GPU 사용 가능\n",
        "\n",
        "# ✅ 6️⃣ 모델 적용 (오디오 분리)\n",
        "sources = apply_model(model, waveform[None, :, :], split=True, device=device)\n",
        "\n",
        "# ✅ 7️⃣ 드럼 요소 저장 (드럼 채널 선택)\n",
        "drum_audio = sources[0, 0, :, :].cpu()  # GPU에서 CPU로 변환\n",
        "\n",
        "# ✅ 8️⃣ 하이햇 강조 필터 적용\n",
        "drum_audio_boosted = torch.tensor(high_freq_boost(drum_audio.squeeze(0).numpy(), sr=sample_rate))\n",
        "\n",
        "# ✅ 9️⃣ 2D 텐서로 변환 (채널 추가)\n",
        "if drum_audio_boosted.dim() == 1:\n",
        "    drum_audio_boosted = drum_audio_boosted.unsqueeze(0)  # [1, samples] 형태 유지\n",
        "\n",
        "# ✅ 🔟 하이햇 강조된 드럼 트랙 저장\n",
        "drum_boost_output_path = os.path.join(output_dir, \"drums_high_boost.wav\")\n",
        "torchaudio.save(drum_boost_output_path, drum_audio_boosted, sample_rate)\n",
        "\n",
        "print(f\"하이햇 강조된 드럼 트랙이 성공적으로 저장되었습니다: {drum_boost_output_path}\")\n"
      ],
      "metadata": {
        "colab": {
          "base_uri": "https://localhost:8080/"
        },
        "id": "59NDtNhyb7Lh",
        "outputId": "086a778e-027e-47fd-f956-708bb8027780"
      },
      "execution_count": null,
      "outputs": [
        {
          "output_type": "stream",
          "name": "stdout",
          "text": [
            "하이햇 강조된 드럼 트랙이 성공적으로 저장되었습니다: /content/drive/My Drive/soundAI/music_separated_0211/drums_high_boost.wav\n"
          ]
        }
      ]
    },
    {
      "cell_type": "markdown",
      "source": [
        "매직카펫라이드"
      ],
      "metadata": {
        "id": "WJKuOBcNh2u3"
      }
    },
    {
      "cell_type": "code",
      "source": [
        "# ✅ 1️⃣ 하이햇 강조 필터 함수\n",
        "def high_freq_boost(waveform, sr=44100, cutoff=5000, gain=1.5):\n",
        "    \"\"\" 하이햇 및 고주파 성분 강조를 위한 하이패스 필터 \"\"\"\n",
        "    b, a = butter(2, cutoff / (sr / 2), btype='high', analog=False)\n",
        "    boosted_waveform = filtfilt(b, a, waveform) * gain\n",
        "    return boosted_waveform\n",
        "\n",
        "# ✅ 2️⃣ 입력 및 출력 파일 경로 설정\n",
        "input_file = '/content/drive/My Drive/soundAI/MagicCarpetRide_drum.mp3'\n",
        "output_dir = '/content/drive/My Drive/soundAI/music_separated_0211/'\n",
        "\n",
        "# ✅ 3️⃣ Hybrid Demucs 모델 로드\n",
        "device = 'cuda' if torch.cuda.is_available() else 'cpu'\n",
        "model = get_model('htdemucs').to(device)  # Hybrid Transformer Demucs\n",
        "\n",
        "# ✅ 4️⃣ 출력 디렉토리 생성\n",
        "os.makedirs(output_dir, exist_ok=True)\n",
        "\n",
        "# ✅ 5️⃣ 오디오 파일 로드\n",
        "waveform, sample_rate = torchaudio.load(input_file)\n",
        "waveform = waveform.to(device)  # GPU 사용 가능\n",
        "\n",
        "# ✅ 6️⃣ 모델 적용 (오디오 분리)\n",
        "sources = apply_model(model, waveform[None, :, :], split=True, device=device)\n",
        "\n",
        "# ✅ 7️⃣ 드럼 요소 저장 (드럼 채널 선택)\n",
        "drum_audio = sources[0, 0, :, :].cpu()  # GPU에서 CPU로 변환\n",
        "\n",
        "# ✅ 8️⃣ 하이햇 강조 필터 적용\n",
        "drum_audio_boosted = torch.tensor(high_freq_boost(drum_audio.squeeze(0).numpy(), sr=sample_rate))\n",
        "\n",
        "# ✅ 9️⃣ 2D 텐서로 변환 (채널 추가)\n",
        "if drum_audio_boosted.dim() == 1:\n",
        "    drum_audio_boosted = drum_audio_boosted.unsqueeze(0)  # [1, samples] 형태 유지\n",
        "\n",
        "# ✅ 🔟 하이햇 강조된 드럼 트랙 저장\n",
        "drum_boost_output_path = os.path.join(output_dir, \"drums_high_boost_MagicCarpetRide_d.wav\")\n",
        "torchaudio.save(drum_boost_output_path, drum_audio_boosted, sample_rate)\n",
        "\n",
        "print(f\"하이햇 강조된 드럼 트랙이 성공적으로 저장되었습니다: {drum_boost_output_path}\")\n"
      ],
      "metadata": {
        "colab": {
          "base_uri": "https://localhost:8080/"
        },
        "id": "KmWgv5u5iH1K",
        "outputId": "3db6ed5a-1c74-40a6-c6a4-33848ced0012"
      },
      "execution_count": null,
      "outputs": [
        {
          "output_type": "stream",
          "name": "stdout",
          "text": [
            "하이햇 강조된 드럼 트랙이 성공적으로 저장되었습니다: /content/drive/My Drive/soundAI/music_separated_0211/drums_high_boost_MagicCarpetRide_d.wav\n"
          ]
        }
      ]
    },
    {
      "cell_type": "markdown",
      "source": [
        "love from the other side"
      ],
      "metadata": {
        "id": "FD559_P0lpLT"
      }
    },
    {
      "cell_type": "code",
      "source": [
        "# ✅ 1️⃣ 하이햇 강조 필터 함수\n",
        "def high_freq_boost(waveform, sr=44100, cutoff=5000, gain=1.5):\n",
        "    \"\"\" 하이햇 및 고주파 성분 강조를 위한 하이패스 필터 \"\"\"\n",
        "    b, a = butter(2, cutoff / (sr / 2), btype='high', analog=False)\n",
        "    boosted_waveform = filtfilt(b, a, waveform) * gain\n",
        "    return boosted_waveform\n",
        "\n",
        "# ✅ 2️⃣ 입력 및 출력 파일 경로 설정\n",
        "input_file = '/content/drive/My Drive/soundAI/Love From The Other Side.mp3'\n",
        "output_dir = '/content/drive/My Drive/soundAI/music_separated_0211/'\n",
        "\n",
        "# ✅ 3️⃣ Hybrid Demucs 모델 로드\n",
        "device = 'cuda' if torch.cuda.is_available() else 'cpu'\n",
        "model = get_model('htdemucs').to(device)  # Hybrid Transformer Demucs\n",
        "\n",
        "# ✅ 4️⃣ 출력 디렉토리 생성\n",
        "os.makedirs(output_dir, exist_ok=True)\n",
        "\n",
        "# ✅ 5️⃣ 오디오 파일 로드\n",
        "waveform, sample_rate = torchaudio.load(input_file)\n",
        "waveform = waveform.to(device)  # GPU 사용 가능\n",
        "\n",
        "# ✅ 6️⃣ 모델 적용 (오디오 분리)\n",
        "sources = apply_model(model, waveform[None, :, :], split=True, device=device)\n",
        "\n",
        "# ✅ 7️⃣ 드럼 요소 저장 (드럼 채널 선택)\n",
        "drum_audio = sources[0, 0, :, :].cpu()  # GPU에서 CPU로 변환\n",
        "\n",
        "# ✅ 8️⃣ 하이햇 강조 필터 적용\n",
        "drum_audio_boosted = torch.tensor(high_freq_boost(drum_audio.squeeze(0).numpy(), sr=sample_rate))\n",
        "\n",
        "# ✅ 9️⃣ 2D 텐서로 변환 (채널 추가)\n",
        "if drum_audio_boosted.dim() == 1:\n",
        "    drum_audio_boosted = drum_audio_boosted.unsqueeze(0)  # [1, samples] 형태 유지\n",
        "\n",
        "# ✅ 🔟 하이햇 강조된 드럼 트랙 저장\n",
        "drum_boost_output_path = os.path.join(output_dir, \"drums_high_boost_lovefromtheoterside_d.wav\")\n",
        "torchaudio.save(drum_boost_output_path, drum_audio_boosted, sample_rate)\n",
        "\n",
        "print(f\"하이햇 강조된 드럼 트랙이 성공적으로 저장되었습니다: {drum_boost_output_path}\")\n"
      ],
      "metadata": {
        "colab": {
          "base_uri": "https://localhost:8080/"
        },
        "id": "7olrlDmClv2j",
        "outputId": "e08767d0-a2d5-4874-ad50-571ac055ee41"
      },
      "execution_count": null,
      "outputs": [
        {
          "output_type": "stream",
          "name": "stdout",
          "text": [
            "하이햇 강조된 드럼 트랙이 성공적으로 저장되었습니다: /content/drive/My Drive/soundAI/music_separated_0211/drums_high_boost_lovefromtheoterside_d.wav\n"
          ]
        }
      ]
    },
    {
      "cell_type": "markdown",
      "source": [
        "## 2. Hybrid demucs 사용 + 하이햇 강조 적용"
      ],
      "metadata": {
        "id": "7ANncGCFWlMO"
      }
    },
    {
      "cell_type": "code",
      "source": [
        "import os\n",
        "import torch\n",
        "import torchaudio\n",
        "from scipy.signal import butter, filtfilt\n",
        "from demucs.pretrained import get_model\n",
        "from demucs.apply import apply_model\n",
        "\n",
        "# ✅ 1️⃣ 고주파 (하이햇) 강조 + 저주파 (킥/스네어) 보정 필터\n",
        "def selective_freq_boost(waveform, sr=44100, low_cut=250, high_cut=5000, low_gain=1.2, high_gain=1.5):\n",
        "    \"\"\" 고주파 (하이햇) 강조 + 저주파 (킥/스네어) 유지 필터 \"\"\"\n",
        "    b_low, a_low = butter(2, low_cut / (sr / 2), btype='low', analog=False)\n",
        "    low_boosted = filtfilt(b_low, a_low, waveform) * low_gain\n",
        "\n",
        "    b_high, a_high = butter(2, high_cut / (sr / 2), btype='high', analog=False)\n",
        "    high_boosted = filtfilt(b_high, a_high, waveform) * high_gain\n",
        "\n",
        "    enhanced_waveform = low_boosted + high_boosted\n",
        "    return enhanced_waveform\n",
        "\n",
        "# ✅ 2️⃣ 입력 및 출력 파일 경로 설정\n",
        "input_file = '/content/drive/My Drive/soundAI/music.mp3'\n",
        "output_dir = '/content/drive/My Drive/soundAI/music_separated_0211/'\n",
        "\n",
        "# ✅ 3️⃣ Hybrid Demucs 모델 로드\n",
        "device = 'cuda' if torch.cuda.is_available() else 'cpu'\n",
        "model = get_model('htdemucs').to(device)\n",
        "\n",
        "# ✅ 4️⃣ 출력 디렉토리 생성\n",
        "os.makedirs(output_dir, exist_ok=True)\n",
        "\n",
        "# ✅ 5️⃣ 오디오 파일 로드\n",
        "waveform, sample_rate = torchaudio.load(input_file)\n",
        "waveform = waveform.to(device)\n",
        "\n",
        "# ✅ 6️⃣ 모델 적용 (오디오 분리)\n",
        "sources = apply_model(model, waveform[None, :, :], split=True, device=device)\n",
        "\n",
        "# ✅ 7️⃣ 드럼 요소 저장 (드럼 채널 선택)\n",
        "drum_audio = sources[0, 0, :, :].cpu()\n",
        "\n",
        "# ✅ 8️⃣ 필터 적용 (하이햇 강조 + 킥/스네어 유지)\n",
        "drum_audio_boosted = torch.tensor(selective_freq_boost(drum_audio.squeeze(0).numpy(), sr=sample_rate))\n",
        "\n",
        "# ✅ 9️⃣ 2D 텐서 변환 (저장 가능하도록)\n",
        "if drum_audio_boosted.dim() == 1:\n",
        "    drum_audio_boosted = drum_audio_boosted.unsqueeze(0)  # [1, 샘플 개수] 형태 유지\n",
        "\n",
        "# ✅ 🔟 파일명 변경 (한글 → 영어)\n",
        "drum_boost_output_path = os.path.join(output_dir, \"꿈나라별나라_하이브리드.wav\")\n",
        "\n",
        "# ✅ 11️⃣ 오디오 저장 (2D 변환 확인)\n",
        "print(f\"드럼 트랙 저장 전 텐서 차원: {drum_audio_boosted.shape}\")  # Debugging\n",
        "\n",
        "torchaudio.save(drum_boost_output_path, drum_audio_boosted, sample_rate)\n",
        "\n",
        "print(f\"하이햇 강조 + 킥/스네어 유지 드럼 트랙이 저장되었습니다: {drum_boost_output_path}\")\n"
      ],
      "metadata": {
        "colab": {
          "base_uri": "https://localhost:8080/"
        },
        "id": "1eqAffARWoaz",
        "outputId": "4e40f619-e67a-4982-a4ea-e1e07472f605"
      },
      "execution_count": null,
      "outputs": [
        {
          "output_type": "stream",
          "name": "stdout",
          "text": [
            "드럼 트랙 저장 전 텐서 차원: torch.Size([2, 8238812])\n",
            "하이햇 강조 + 킥/스네어 유지 드럼 트랙이 저장되었습니다: /content/drive/My Drive/soundAI/music_separated_0211/꿈나라별나라_하이브리드.wav\n"
          ]
        }
      ]
    },
    {
      "cell_type": "code",
      "source": [
        "import os\n",
        "import torch\n",
        "import torchaudio\n",
        "from scipy.signal import butter, filtfilt\n",
        "from demucs.pretrained import get_model\n",
        "from demucs.apply import apply_model\n",
        "\n",
        "# ✅ 1️⃣ 고주파 (하이햇) 강조 + 저주파 (킥/스네어) 보정 필터\n",
        "def selective_freq_boost(waveform, sr=44100, low_cut=250, high_cut=5000, low_gain=1.2, high_gain=1.5):\n",
        "    \"\"\" 고주파 (하이햇) 강조 + 저주파 (킥/스네어) 유지 필터 \"\"\"\n",
        "    b_low, a_low = butter(2, low_cut / (sr / 2), btype='low', analog=False)\n",
        "    low_boosted = filtfilt(b_low, a_low, waveform) * low_gain\n",
        "\n",
        "    b_high, a_high = butter(2, high_cut / (sr / 2), btype='high', analog=False)\n",
        "    high_boosted = filtfilt(b_high, a_high, waveform) * high_gain\n",
        "\n",
        "    enhanced_waveform = low_boosted + high_boosted\n",
        "    return enhanced_waveform\n",
        "\n",
        "# ✅ 2️⃣ 입력 및 출력 파일 경로 설정\n",
        "input_file = '/content/drive/My Drive/soundAI/Love From The Other Side.mp3'\n",
        "output_dir = '/content/drive/My Drive/soundAI/music_separated_0211/'\n",
        "\n",
        "# ✅ 3️⃣ Hybrid Demucs 모델 로드\n",
        "device = 'cuda' if torch.cuda.is_available() else 'cpu'\n",
        "model = get_model('htdemucs').to(device)\n",
        "\n",
        "# ✅ 4️⃣ 출력 디렉토리 생성\n",
        "os.makedirs(output_dir, exist_ok=True)\n",
        "\n",
        "# ✅ 5️⃣ 오디오 파일 로드\n",
        "waveform, sample_rate = torchaudio.load(input_file)\n",
        "waveform = waveform.to(device)\n",
        "\n",
        "# ✅ 6️⃣ 모델 적용 (오디오 분리)\n",
        "sources = apply_model(model, waveform[None, :, :], split=True, device=device)\n",
        "\n",
        "# ✅ 7️⃣ 드럼 요소 저장 (드럼 채널 선택)\n",
        "drum_audio = sources[0, 0, :, :].cpu()\n",
        "\n",
        "# ✅ 8️⃣ 필터 적용 (하이햇 강조 + 킥/스네어 유지)\n",
        "drum_audio_boosted = torch.tensor(selective_freq_boost(drum_audio.squeeze(0).numpy(), sr=sample_rate))\n",
        "\n",
        "# ✅ 9️⃣ 2D 텐서 변환 (저장 가능하도록)\n",
        "if drum_audio_boosted.dim() == 1:\n",
        "    drum_audio_boosted = drum_audio_boosted.unsqueeze(0)  # [1, 샘플 개수] 형태 유지\n",
        "\n",
        "# ✅ 🔟 파일명 변경 (한글 → 영어)\n",
        "drum_boost_output_path = os.path.join(output_dir, \"LFTOS_하이브리드.wav\")\n",
        "\n",
        "# ✅ 11️⃣ 오디오 저장 (2D 변환 확인)\n",
        "print(f\"드럼 트랙 저장 전 텐서 차원: {drum_audio_boosted.shape}\")  # Debugging\n",
        "\n",
        "torchaudio.save(drum_boost_output_path, drum_audio_boosted, sample_rate)\n",
        "\n",
        "print(f\"하이햇 강조 + 킥/스네어 유지 드럼 트랙이 저장되었습니다: {drum_boost_output_path}\")\n"
      ],
      "metadata": {
        "colab": {
          "base_uri": "https://localhost:8080/"
        },
        "id": "V0OXwcJL4bNn",
        "outputId": "e3977c3b-d842-4fd5-c410-ac0326e20220"
      },
      "execution_count": null,
      "outputs": [
        {
          "output_type": "stream",
          "name": "stderr",
          "text": [
            "Downloading: \"https://dl.fbaipublicfiles.com/demucs/hybrid_transformer/955717e8-8726e21a.th\" to /root/.cache/torch/hub/checkpoints/955717e8-8726e21a.th\n",
            "100%|██████████| 80.2M/80.2M [00:02<00:00, 38.9MB/s]\n"
          ]
        },
        {
          "output_type": "stream",
          "name": "stdout",
          "text": [
            "드럼 트랙 저장 전 텐서 차원: torch.Size([2, 10831872])\n",
            "하이햇 강조 + 킥/스네어 유지 드럼 트랙이 저장되었습니다: /content/drive/My Drive/soundAI/music_separated_0211/LFTOS_하이브리드.wav\n"
          ]
        }
      ]
    },
    {
      "cell_type": "markdown",
      "source": [
        "## 3. spleeter + demucs 병렬 사용"
      ],
      "metadata": {
        "id": "g5ZUvvhLWpW5"
      }
    },
    {
      "cell_type": "code",
      "source": [
        "!pip install --upgrade pip setuptools wheel\n"
      ],
      "metadata": {
        "colab": {
          "base_uri": "https://localhost:8080/",
          "height": 516
        },
        "id": "aRfDVIBqqBwX",
        "outputId": "7a4c8082-b68d-4acb-9c42-f5cbce2680d8"
      },
      "execution_count": null,
      "outputs": [
        {
          "output_type": "stream",
          "name": "stdout",
          "text": [
            "Requirement already satisfied: pip in /usr/local/lib/python3.11/dist-packages (24.1.2)\n",
            "Collecting pip\n",
            "  Downloading pip-25.0.1-py3-none-any.whl.metadata (3.7 kB)\n",
            "Requirement already satisfied: setuptools in /usr/local/lib/python3.11/dist-packages (75.1.0)\n",
            "Collecting setuptools\n",
            "  Using cached setuptools-75.8.0-py3-none-any.whl.metadata (6.7 kB)\n",
            "Requirement already satisfied: wheel in /usr/local/lib/python3.11/dist-packages (0.45.1)\n",
            "Downloading pip-25.0.1-py3-none-any.whl (1.8 MB)\n",
            "\u001b[2K   \u001b[90m━━━━━━━━━━━━━━━━━━━━━━━━━━━━━━━━━━━━━━━━\u001b[0m \u001b[32m1.8/1.8 MB\u001b[0m \u001b[31m25.2 MB/s\u001b[0m eta \u001b[36m0:00:00\u001b[0m\n",
            "\u001b[?25hUsing cached setuptools-75.8.0-py3-none-any.whl (1.2 MB)\n",
            "Installing collected packages: setuptools, pip\n",
            "  Attempting uninstall: setuptools\n",
            "    Found existing installation: setuptools 75.1.0\n",
            "    Uninstalling setuptools-75.1.0:\n",
            "      Successfully uninstalled setuptools-75.1.0\n",
            "  Attempting uninstall: pip\n",
            "    Found existing installation: pip 24.1.2\n",
            "    Uninstalling pip-24.1.2:\n",
            "      Successfully uninstalled pip-24.1.2\n",
            "\u001b[31mERROR: pip's dependency resolver does not currently take into account all the packages that are installed. This behaviour is the source of the following dependency conflicts.\n",
            "ipython 7.34.0 requires jedi>=0.16, which is not installed.\u001b[0m\u001b[31m\n",
            "\u001b[0mSuccessfully installed pip-25.0.1 setuptools-75.8.0\n"
          ]
        },
        {
          "output_type": "display_data",
          "data": {
            "application/vnd.colab-display-data+json": {
              "pip_warning": {
                "packages": [
                  "_distutils_hack",
                  "pkg_resources",
                  "setuptools"
                ]
              },
              "id": "bfe431ed8c7f4ec9b563a66f6ee1678c"
            }
          },
          "metadata": {}
        }
      ]
    },
    {
      "cell_type": "code",
      "source": [
        "!pip install spleeter==2.0.0\n"
      ],
      "metadata": {
        "colab": {
          "base_uri": "https://localhost:8080/"
        },
        "id": "RqIS-3k0WzzA",
        "outputId": "fc81d0e7-ebbd-4c70-9f78-65116dccb19b"
      },
      "execution_count": null,
      "outputs": [
        {
          "output_type": "stream",
          "name": "stdout",
          "text": [
            "\u001b[31mERROR: Ignored the following versions that require a different python version: 1.4.1 Requires-Python >=3.6, <3.8; 1.4.3 Requires-Python >=3.6, <3.8; 1.4.4 Requires-Python >=3.6, <3.8; 1.4.5 Requires-Python >=3.6, <3.8; 1.4.6 Requires-Python >=3.6, <3.8; 1.4.7 Requires-Python >=3.6, <3.8; 1.4.8 Requires-Python >=3.6, <3.8; 1.4.9 Requires-Python >=3.6, <3.8; 1.5.0 Requires-Python >=3.6, <3.8; 1.5.1 Requires-Python >=3.6, <3.8; 1.5.2 Requires-Python >=3.6, <3.8; 1.5.3 Requires-Python >=3.6, <3.8; 1.5.4 Requires-Python >=3.6, <3.8; 2.0 Requires-Python >=3.6, <3.9; 2.0.1 Requires-Python >=3.6, <3.9; 2.0.2 Requires-Python >=3.6, <3.9; 2.1.1 Requires-Python >=3.6.1,<3.9; 2.1.2 Requires-Python >=3.6.1,<3.9; 2.2.0 Requires-Python >=3.6.1,<3.9; 2.2.1 Requires-Python >=3.6.1,<3.9; 2.2.2 Requires-Python >=3.6.1,<3.9; 2.3.0 Requires-Python >=3.6.1,<3.10; 2.3.1 Requires-Python >=3.6.2,<3.10; 2.3.2 Requires-Python >=3.7.1,<3.11; 2.4.0 Requires-Python >=3.7.1,<3.11\u001b[0m\u001b[31m\n",
            "\u001b[0m\u001b[31mERROR: Could not find a version that satisfies the requirement spleeter==2.0.0 (from versions: 2.1.0)\u001b[0m\u001b[31m\n",
            "\u001b[0m\u001b[31mERROR: No matching distribution found for spleeter==2.0.0\u001b[0m\u001b[31m\n",
            "\u001b[0m"
          ]
        }
      ]
    },
    {
      "cell_type": "code",
      "source": [
        "!pip show spleeter\n"
      ],
      "metadata": {
        "colab": {
          "base_uri": "https://localhost:8080/"
        },
        "id": "yr90sHlgpuyM",
        "outputId": "7da797c3-fb5e-405a-e606-4245bf729fea"
      },
      "execution_count": null,
      "outputs": [
        {
          "output_type": "stream",
          "name": "stdout",
          "text": [
            "\u001b[33mWARNING: Package(s) not found: spleeter\u001b[0m\u001b[33m\n",
            "\u001b[0m"
          ]
        }
      ]
    },
    {
      "cell_type": "code",
      "source": [
        "!spleeter separate -p spleeter:4stems -o output_spleeter music.mp3"
      ],
      "metadata": {
        "colab": {
          "base_uri": "https://localhost:8080/"
        },
        "id": "Ggg7RBQPft49",
        "outputId": "083f58c7-0d6a-4a37-baf0-1b65cb88f370"
      },
      "execution_count": null,
      "outputs": [
        {
          "output_type": "stream",
          "name": "stdout",
          "text": [
            "/bin/bash: line 1: spleeter: command not found\n"
          ]
        }
      ]
    },
    {
      "cell_type": "code",
      "source": [
        "%%capture\n",
        "pip install torchaudio demucs"
      ],
      "metadata": {
        "id": "9Zdd42adfyL-"
      },
      "execution_count": null,
      "outputs": []
    },
    {
      "cell_type": "code",
      "source": [],
      "metadata": {
        "id": "1wXQX8P4f1az"
      },
      "execution_count": null,
      "outputs": []
    },
    {
      "cell_type": "markdown",
      "source": [
        "Spleeter에서 보컬, 기타, 베이스 트랙을 가져옴\n",
        "\n",
        "Demucs에서 드럼 트랙을 가져옴\n",
        "\n",
        "\n",
        "하이햇 강조 필터 적용\n"
      ],
      "metadata": {
        "id": "W6HpmNZff5xJ"
      }
    },
    {
      "cell_type": "code",
      "source": [
        "import os\n",
        "import torch\n",
        "import torchaudio\n",
        "import numpy as np\n",
        "from scipy.signal import butter, filtfilt\n",
        "from demucs.pretrained import get_model\n",
        "from demucs.apply import apply_model\n",
        "\n",
        "# ✅ 1️⃣ 하이햇 강조 필터 함수\n",
        "def high_freq_boost(waveform, sr=44100, cutoff=5000, gain=1.5):\n",
        "    \"\"\" 하이햇 및 고주파 성분 강조를 위한 하이패스 필터 \"\"\"\n",
        "    b, a = butter(2, cutoff / (sr / 2), btype='high', analog=False)\n",
        "    boosted_waveform = filtfilt(b, a, waveform) * gain\n",
        "    return boosted_waveform\n",
        "\n",
        "# ✅ 2️⃣ 입력 및 출력 파일 경로 설정\n",
        "input_file = \"input_audio.mp3\"\n",
        "output_dir = \"output_combined/\"\n",
        "spleeter_dir = \"output_spleeter/input_audio/\"\n",
        "demucs_dir = \"output_demucs/input_audio/\"\n",
        "\n",
        "os.makedirs(output_dir, exist_ok=True)\n",
        "\n",
        "# ✅ 3️⃣ Spleeter로 분리한 오디오 로드 (보컬, 기타, 베이스)\n",
        "vocals, sr = torchaudio.load(os.path.join(spleeter_dir, \"vocals.wav\"))\n",
        "bass, _ = torchaudio.load(os.path.join(spleeter_dir, \"bass.wav\"))\n",
        "other, _ = torchaudio.load(os.path.join(spleeter_dir, \"other.wav\"))\n",
        "\n",
        "# ✅ 4️⃣ Demucs로 분리한 드럼 로드\n",
        "drums, _ = torchaudio.load(os.path.join(demucs_dir, \"drums.wav\"))\n",
        "\n",
        "# ✅ 5️⃣ 하이햇 강조 필터 적용\n",
        "drums_boosted = torch.tensor(high_freq_boost(drums.squeeze(0).numpy(), sr=sr)).unsqueeze(0)\n",
        "\n",
        "# ✅ 6️⃣ 최종 믹스 (Spleeter+Demucs)\n",
        "final_mix = vocals + bass + other + drums_boosted\n",
        "\n",
        "# ✅ 7️⃣ 오디오 저장\n",
        "output_path = os.path.join(output_dir, \"final_mix.wav\")\n",
        "torchaudio.save(output_path, final_mix, sr)\n",
        "\n",
        "print(f\"최적화된 분리 트랙이 저장되었습니다: {output_path}\")\n"
      ],
      "metadata": {
        "id": "s0srbbEGf5NJ"
      },
      "execution_count": null,
      "outputs": []
    }
  ]
}