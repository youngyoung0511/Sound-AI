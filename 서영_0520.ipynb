{
  "nbformat": 4,
  "nbformat_minor": 0,
  "metadata": {
    "colab": {
      "provenance": [],
      "collapsed_sections": [
        "aLv-hVihc9jD",
        "WRTDrL3IuEyA",
        "BvxPyeygyDZS",
        "_RE61huX070o"
      ],
      "authorship_tag": "ABX9TyOrc82xtQuz2N2nitHKPz3v",
      "include_colab_link": true
    },
    "kernelspec": {
      "name": "python3",
      "display_name": "Python 3"
    },
    "language_info": {
      "name": "python"
    }
  },
  "cells": [
    {
      "cell_type": "markdown",
      "metadata": {
        "id": "view-in-github",
        "colab_type": "text"
      },
      "source": [
        "<a href=\"https://colab.research.google.com/github/youngyoung0511/Sound-AI/blob/main/%EC%84%9C%EC%98%81_0520.ipynb\" target=\"_parent\"><img src=\"https://colab.research.google.com/assets/colab-badge.svg\" alt=\"Open In Colab\"/></a>"
      ]
    },
    {
      "cell_type": "markdown",
      "source": [
        "# 모델 학습 시도--- 성공"
      ],
      "metadata": {
        "id": "aLv-hVihc9jD"
      }
    },
    {
      "cell_type": "code",
      "source": [
        "import tensorflow as tf\n",
        "import numpy as np\n",
        "import pandas as pd\n",
        "import os\n",
        "import librosa\n",
        "import librosa.display\n",
        "import matplotlib.pyplot as plt\n",
        "\n",
        "from sklearn.model_selection import train_test_split\n",
        "from tensorflow.keras import models, layers\n",
        "from tensorflow.keras.preprocessing.sequence import pad_sequences  # pad_sequences 추가\n",
        "\n",
        "\n",
        "# Google Drive 마운트 및 데이터 로드\n",
        "from google.colab import drive\n",
        "drive.mount('/content/drive')\n",
        "file_path = \"/content/drive/My Drive/soundAI/df_concat.csv\"\n",
        "df = pd.read_csv(file_path)\n",
        "print(df.head(10))"
      ],
      "metadata": {
        "colab": {
          "base_uri": "https://localhost:8080/"
        },
        "id": "17AmXUhdeeJo",
        "outputId": "f69452d6-4627-4288-826b-72f611f7c6fd"
      },
      "execution_count": null,
      "outputs": [
        {
          "output_type": "stream",
          "name": "stdout",
          "text": [
            "Mounted at /content/drive\n",
            "                                             feature  label\n",
            "0  [[-0.6867080926895142, -0.35630643367767334, -...      9\n",
            "1  [[-0.5121172070503235, -0.15281927585601807, -...     10\n",
            "2  [[-0.5510217547416687, -0.40891343355178833, 0...     11\n",
            "3  [[-1.0, -0.7065231204032898, -0.52293550968170...     12\n",
            "4  [[-0.6754663586616516, -0.8131034970283508, -0...     13\n",
            "5  [[-0.46315479278564453, -0.48231905698776245, ...    209\n",
            "6  [[-0.45506036281585693, -0.4036714434623718, -...    309\n",
            "7  [[-0.4599418640136719, -0.3838350176811218, -0...    409\n",
            "8  [[-0.5104864239692688, -0.33293116092681885, -...    509\n",
            "9  [[-0.39017772674560547, -0.3200284242630005, -...    609\n"
          ]
        }
      ]
    },
    {
      "cell_type": "code",
      "source": [
        "# 데이터 전처리\n",
        "# 이미 features와 labels가 데이터 프레임에 포함되어 있으므로, 이를 numpy array로 변환합니다.\n",
        "# 문자열로 인코딩된 리스트를 실제 리스트로 변환하고 패딩을 적용합니다.\n",
        "features = df['feature'].apply(eval).tolist()\n",
        "\n",
        "# 최대 길이 및 최대 차원 찾기\n",
        "max_len = max(len(feature) for feature in features)\n",
        "max_dim = max(len(feature[0]) if len(feature) > 0 else 0 for feature in features)\n",
        "print(f\"Max length of features: {max_len}\")\n",
        "print(f\"Max dimension of features: {max_dim}\")\n",
        "\n",
        "# 모든 시퀀스를 동일한 길이와 차원으로 패딩\n",
        "padded_features = np.array([np.pad(feature, ((0, max_len - len(feature)), (0, max_dim - len(feature[0]))), mode='constant') if len(feature) > 0 else np.zeros((max_len, max_dim)) for feature in features], dtype='float32')\n",
        "\n",
        "X = np.array(padded_features)\n",
        "y = np.array(df['label'].tolist())\n",
        "\n",
        "# X 배열의 형상 출력\n",
        "print(f\"Shape of X: {X.shape}\")"
      ],
      "metadata": {
        "colab": {
          "base_uri": "https://localhost:8080/"
        },
        "id": "6jYJgr1RgGi3",
        "outputId": "9cdfbfd8-6755-41e4-969d-623dca5dc590"
      },
      "execution_count": null,
      "outputs": [
        {
          "output_type": "stream",
          "name": "stdout",
          "text": [
            "Max length of features: 1025\n",
            "Max dimension of features: 130\n",
            "Shape of X: (147, 1025, 130)\n"
          ]
        }
      ]
    },
    {
      "cell_type": "code",
      "source": [
        "# CNN을 위해 차원 추가\n",
        "if len(X.shape) == 3:  # 확인된 형상이 (samples, timesteps, features)인 경우\n",
        "    X = X[..., np.newaxis]  # 차원 추가 (samples, timesteps, features, 1)\n",
        "\n",
        "print(f\"New shape of X: {X.shape}\")\n"
      ],
      "metadata": {
        "colab": {
          "base_uri": "https://localhost:8080/"
        },
        "id": "NAaU5T-eg9SX",
        "outputId": "a3e1eaf7-b2f3-4095-8ce1-5044e1592cac"
      },
      "execution_count": null,
      "outputs": [
        {
          "output_type": "stream",
          "name": "stdout",
          "text": [
            "New shape of X: (147, 1025, 130, 1)\n"
          ]
        }
      ]
    },
    {
      "cell_type": "code",
      "source": [
        "# 라벨의 최대값 확인\n",
        "num_classes = np.max(y) + 1\n",
        "print(f\"Number of classes: {num_classes}\")\n",
        "\n",
        "# 훈련, 검증, 테스트 데이터 나누기\n",
        "X_train, X_temp, y_train, y_temp = train_test_split(X, y, test_size=0.2, random_state=42)\n",
        "X_val, X_test, y_val, y_test = train_test_split(X_temp, y_temp, test_size=0.5, random_state=42)\n"
      ],
      "metadata": {
        "colab": {
          "base_uri": "https://localhost:8080/"
        },
        "id": "3SSdVoBVerhh",
        "outputId": "0b2a4b17-4da6-4219-e6a9-84439d819750"
      },
      "execution_count": null,
      "outputs": [
        {
          "output_type": "stream",
          "name": "stdout",
          "text": [
            "Number of classes: 1214\n"
          ]
        }
      ]
    },
    {
      "cell_type": "code",
      "source": [
        "# 모델 정의 함수\n",
        "def create_model(input_shape, num_classes):\n",
        "    model = models.Sequential()\n",
        "    model.add(layers.Conv2D(32, (3, 3), activation='relu', input_shape=input_shape))\n",
        "    model.add(layers.MaxPooling2D((2, 2)))\n",
        "    model.add(layers.Conv2D(64, (3, 3), activation='relu'))\n",
        "    model.add(layers.MaxPooling2D((2, 2)))\n",
        "    model.add(layers.Conv2D(128, (3, 3), activation='relu'))\n",
        "    model.add(layers.Flatten())\n",
        "    model.add(layers.Dense(128, activation='relu'))\n",
        "    model.add(layers.Dense(num_classes, activation='softmax'))  # num_classes 적용\n",
        "    return model\n"
      ],
      "metadata": {
        "id": "p0uQzWqoetGS"
      },
      "execution_count": null,
      "outputs": []
    },
    {
      "cell_type": "code",
      "source": [
        "# 모델 구성\n",
        "input_shape = (X.shape[1], X.shape[2], 1)\n",
        "model = create_model(input_shape, num_classes)\n",
        "model.compile(optimizer='adam', loss='sparse_categorical_crossentropy', metrics=['accuracy'])\n"
      ],
      "metadata": {
        "id": "t9Y6-ZyPeulh"
      },
      "execution_count": null,
      "outputs": []
    },
    {
      "cell_type": "code",
      "source": [
        "# 콜백 설정\n",
        "checkpoint = tf.keras.callbacks.ModelCheckpoint('best_model.h5', monitor='val_loss', save_best_only=True, mode='min')\n",
        "early_stopping = tf.keras.callbacks.EarlyStopping(monitor='val_loss', patience=10, restore_best_weights=True)\n",
        "\n",
        "# 모델 학습\n",
        "history = model.fit(\n",
        "    X_train, y_train,\n",
        "    epochs=20,\n",
        "    batch_size=32,\n",
        "    validation_data=(X_val, y_val),\n",
        "    callbacks=[checkpoint, early_stopping]\n",
        ")\n",
        "\n",
        "# 모델 평가\n",
        "val_loss, val_accuracy = model.evaluate(X_val, y_val, verbose=2)\n",
        "print(f'Validation Loss: {val_loss}')\n",
        "print(f'Validation Accuracy: {val_accuracy}')"
      ],
      "metadata": {
        "colab": {
          "base_uri": "https://localhost:8080/"
        },
        "id": "tSSRplYepLBR",
        "outputId": "b0d4e2a8-9fa1-4a50-fb13-90f5d9aa255f"
      },
      "execution_count": null,
      "outputs": [
        {
          "output_type": "stream",
          "name": "stdout",
          "text": [
            "Epoch 1/20\n",
            "4/4 [==============================] - 15s 5s/step - loss: 5.9333 - accuracy: 0.0171 - val_loss: 7.4847 - val_accuracy: 0.0000e+00\n",
            "Epoch 2/20\n",
            "4/4 [==============================] - 1s 144ms/step - loss: 4.8958 - accuracy: 0.0855 - val_loss: 8.3586 - val_accuracy: 0.0000e+00\n",
            "Epoch 3/20\n",
            "4/4 [==============================] - 1s 146ms/step - loss: 4.1334 - accuracy: 0.1453 - val_loss: 8.7924 - val_accuracy: 0.0000e+00\n",
            "Epoch 4/20\n",
            "4/4 [==============================] - 1s 147ms/step - loss: 3.7112 - accuracy: 0.1368 - val_loss: 8.7337 - val_accuracy: 0.0000e+00\n",
            "Epoch 5/20\n",
            "4/4 [==============================] - 1s 160ms/step - loss: 3.3095 - accuracy: 0.2051 - val_loss: 10.1416 - val_accuracy: 0.0000e+00\n",
            "Epoch 6/20\n",
            "4/4 [==============================] - 1s 158ms/step - loss: 2.9805 - accuracy: 0.2308 - val_loss: 10.9999 - val_accuracy: 0.0667\n",
            "Epoch 7/20\n",
            "4/4 [==============================] - 1s 148ms/step - loss: 2.8711 - accuracy: 0.2650 - val_loss: 10.3096 - val_accuracy: 0.0667\n",
            "Epoch 8/20\n",
            "4/4 [==============================] - 1s 134ms/step - loss: 2.4951 - accuracy: 0.3248 - val_loss: 11.1027 - val_accuracy: 0.0000e+00\n",
            "Epoch 9/20\n",
            "4/4 [==============================] - 1s 135ms/step - loss: 2.4339 - accuracy: 0.3333 - val_loss: 12.2949 - val_accuracy: 0.0000e+00\n",
            "Epoch 10/20\n",
            "4/4 [==============================] - 1s 134ms/step - loss: 2.0399 - accuracy: 0.4359 - val_loss: 12.6879 - val_accuracy: 0.0000e+00\n",
            "Epoch 11/20\n",
            "4/4 [==============================] - 1s 344ms/step - loss: 1.8999 - accuracy: 0.4615 - val_loss: 12.7635 - val_accuracy: 0.0667\n",
            "1/1 - 0s - loss: 7.4847 - accuracy: 0.0000e+00 - 51ms/epoch - 51ms/step\n",
            "Validation Loss: 7.484734058380127\n",
            "Validation Accuracy: 0.0\n"
          ]
        }
      ]
    },
    {
      "cell_type": "markdown",
      "source": [
        "# accuracy 증가시도---안 늘어남..."
      ],
      "metadata": {
        "id": "WRTDrL3IuEyA"
      }
    },
    {
      "cell_type": "code",
      "source": [
        "import tensorflow as tf\n",
        "import numpy as np\n",
        "import pandas as pd\n",
        "import os\n",
        "import librosa\n",
        "import librosa.display\n",
        "import matplotlib.pyplot as plt\n",
        "\n",
        "from sklearn.model_selection import train_test_split\n",
        "from tensorflow.keras import models, layers\n",
        "from tensorflow.keras.preprocessing.sequence import pad_sequences\n"
      ],
      "metadata": {
        "id": "W6HTq0fYuJ2B"
      },
      "execution_count": null,
      "outputs": []
    },
    {
      "cell_type": "code",
      "source": [
        "# Google Drive 마운트 및 데이터 로드\n",
        "from google.colab import drive\n",
        "drive.mount('/content/drive')\n",
        "file_path = \"/content/drive/My Drive/soundAI/df_concat.csv\"\n",
        "df = pd.read_csv(file_path)\n",
        "print(df.head(10))"
      ],
      "metadata": {
        "colab": {
          "base_uri": "https://localhost:8080/"
        },
        "id": "z_CdojusuLyA",
        "outputId": "d978d1e4-fd16-4833-e6e1-c35dc008d38c"
      },
      "execution_count": null,
      "outputs": [
        {
          "output_type": "stream",
          "name": "stdout",
          "text": [
            "Drive already mounted at /content/drive; to attempt to forcibly remount, call drive.mount(\"/content/drive\", force_remount=True).\n",
            "                                             feature  label\n",
            "0  [[-0.6867080926895142, -0.35630643367767334, -...      9\n",
            "1  [[-0.5121172070503235, -0.15281927585601807, -...     10\n",
            "2  [[-0.5510217547416687, -0.40891343355178833, 0...     11\n",
            "3  [[-1.0, -0.7065231204032898, -0.52293550968170...     12\n",
            "4  [[-0.6754663586616516, -0.8131034970283508, -0...     13\n",
            "5  [[-0.46315479278564453, -0.48231905698776245, ...    209\n",
            "6  [[-0.45506036281585693, -0.4036714434623718, -...    309\n",
            "7  [[-0.4599418640136719, -0.3838350176811218, -0...    409\n",
            "8  [[-0.5104864239692688, -0.33293116092681885, -...    509\n",
            "9  [[-0.39017772674560547, -0.3200284242630005, -...    609\n"
          ]
        }
      ]
    },
    {
      "cell_type": "code",
      "source": [
        "# 데이터 전처리\n",
        "features = df['feature'].apply(eval).tolist()\n",
        "max_len = max(len(feature) for feature in features)\n",
        "max_dim = max(len(feature[0]) if len(feature) > 0 else 0 for feature in features)\n",
        "print(f\"Max length of features: {max_len}\")\n",
        "print(f\"Max dimension of features: {max_dim}\")\n"
      ],
      "metadata": {
        "colab": {
          "base_uri": "https://localhost:8080/"
        },
        "id": "FEbO5bluuOqA",
        "outputId": "cac8d1ca-c29d-4076-aa81-6b97052070e5"
      },
      "execution_count": null,
      "outputs": [
        {
          "output_type": "stream",
          "name": "stdout",
          "text": [
            "Max length of features: 1025\n",
            "Max dimension of features: 130\n"
          ]
        }
      ]
    },
    {
      "cell_type": "code",
      "source": [
        "padded_features = np.array([np.pad(feature, ((0, max_len - len(feature)), (0, max_dim - len(feature[0]))), mode='constant') if len(feature) > 0 else np.zeros((max_len, max_dim)) for feature in features], dtype='float32')\n",
        "\n",
        "X = np.array(padded_features)\n",
        "y = np.array(df['label'].tolist())\n",
        "\n",
        "print(f\"Shape of X: {X.shape}\")\n"
      ],
      "metadata": {
        "colab": {
          "base_uri": "https://localhost:8080/"
        },
        "id": "mLR7V3mGuQmU",
        "outputId": "113a52ac-cca9-42bd-daf2-a13064d1d54a"
      },
      "execution_count": null,
      "outputs": [
        {
          "output_type": "stream",
          "name": "stdout",
          "text": [
            "Shape of X: (147, 1025, 130)\n"
          ]
        }
      ]
    },
    {
      "cell_type": "code",
      "source": [
        "if len(X.shape) == 3:\n",
        "    X = X[..., np.newaxis]\n",
        "\n",
        "print(f\"New shape of X: {X.shape}\")\n",
        "num_classes = np.max(y) + 1\n",
        "print(f\"Number of classes: {num_classes}\")\n"
      ],
      "metadata": {
        "colab": {
          "base_uri": "https://localhost:8080/"
        },
        "id": "CJpOBP_ruVJ3",
        "outputId": "bdf1ec0e-b8ff-4a22-9516-bbc6ed4a8a9f"
      },
      "execution_count": null,
      "outputs": [
        {
          "output_type": "stream",
          "name": "stdout",
          "text": [
            "New shape of X: (147, 1025, 130, 1)\n",
            "Number of classes: 1214\n"
          ]
        }
      ]
    },
    {
      "cell_type": "code",
      "source": [
        "X_train, X_temp, y_train, y_temp = train_test_split(X, y, test_size=0.2, random_state=42)\n",
        "X_val, X_test, y_val, y_test = train_test_split(X_temp, y_temp, test_size=0.5, random_state=42)\n",
        "\n",
        "def create_model(input_shape, num_classes):\n",
        "    model = models.Sequential()\n",
        "    model.add(layers.Conv2D(32, (3, 3), activation='relu', input_shape=input_shape))\n",
        "    model.add(layers.MaxPooling2D((2, 2)))\n",
        "    model.add(layers.Conv2D(64, (3, 3), activation='relu'))\n",
        "    model.add(layers.MaxPooling2D((2, 2)))\n",
        "    model.add(layers.Conv2D(128, (3, 3), activation='relu'))\n",
        "    model.add(layers.Flatten())\n",
        "    model.add(layers.Dense(128, activation='relu'))\n",
        "    model.add(layers.Dropout(0.5))  # Dropout 추가\n",
        "    model.add(layers.Dense(num_classes, activation='softmax'))\n",
        "    return model\n"
      ],
      "metadata": {
        "id": "v6qX4xNuvnyn"
      },
      "execution_count": null,
      "outputs": []
    },
    {
      "cell_type": "code",
      "source": [
        "input_shape = (X.shape[1], X.shape[2], 1)\n",
        "model = create_model(input_shape, num_classes)\n",
        "model.compile(optimizer='adam', loss='sparse_categorical_crossentropy', metrics=['accuracy'])\n",
        "\n",
        "checkpoint = tf.keras.callbacks.ModelCheckpoint('best_model.h5', monitor='val_loss', save_best_only=True, mode='min')\n",
        "early_stopping = tf.keras.callbacks.EarlyStopping(monitor='val_loss', patience=10, restore_best_weights=True)\n",
        "reduce_lr = tf.keras.callbacks.ReduceLROnPlateau(monitor='val_loss', factor=0.2, patience=5, min_lr=0.001)  # Learning rate scheduler 추가\n"
      ],
      "metadata": {
        "id": "5JbGTRz-vqCf"
      },
      "execution_count": null,
      "outputs": []
    },
    {
      "cell_type": "code",
      "source": [
        "history = model.fit(\n",
        "    X_train, y_train,\n",
        "    epochs=50,  # 에폭 수 증가\n",
        "    batch_size=32,\n",
        "    validation_data=(X_val, y_val),\n",
        "    callbacks=[checkpoint, early_stopping, reduce_lr]\n",
        ")\n",
        "\n",
        "val_loss, val_accuracy = model.evaluate(X_val, y_val, verbose=2)\n",
        "print(f'Validation Loss: {val_loss}')\n",
        "print(f'Validation Accuracy: {val_accuracy}')"
      ],
      "metadata": {
        "colab": {
          "base_uri": "https://localhost:8080/"
        },
        "id": "JF8i5sL6vu7t",
        "outputId": "7cfbf42d-5b83-40b0-b436-fd67d27007a7"
      },
      "execution_count": null,
      "outputs": [
        {
          "output_type": "stream",
          "name": "stdout",
          "text": [
            "Epoch 1/50\n",
            "4/4 [==============================] - ETA: 0s - loss: 9.9318 - accuracy: 0.0000e+00 "
          ]
        },
        {
          "output_type": "stream",
          "name": "stderr",
          "text": [
            "/usr/local/lib/python3.10/dist-packages/keras/src/engine/training.py:3103: UserWarning: You are saving your model as an HDF5 file via `model.save()`. This file format is considered legacy. We recommend using instead the native Keras format, e.g. `model.save('my_model.keras')`.\n",
            "  saving_api.save_model(\n"
          ]
        },
        {
          "output_type": "stream",
          "name": "stdout",
          "text": [
            "\b\b\b\b\b\b\b\b\b\b\b\b\b\b\b\b\b\b\b\b\b\b\b\b\b\b\b\b\b\b\b\b\b\b\b\b\b\b\b\b\b\b\b\b\b\b\b\b\b\b\b\b\b\b\b\b\b\b\b\b\b\b\b\b\b\b\b\b\b\b\b\b\b\b\b\b\b\b\b\b\b\b\b\b\r4/4 [==============================] - 14s 5s/step - loss: 9.9318 - accuracy: 0.0000e+00 - val_loss: 7.0727 - val_accuracy: 0.0000e+00 - lr: 0.0010\n",
            "Epoch 2/50\n",
            "4/4 [==============================] - 18s 6s/step - loss: 7.0590 - accuracy: 0.0000e+00 - val_loss: 7.0124 - val_accuracy: 0.0000e+00 - lr: 0.0010\n",
            "Epoch 3/50\n",
            "4/4 [==============================] - 28s 9s/step - loss: 6.8715 - accuracy: 0.0171 - val_loss: 6.9005 - val_accuracy: 0.0000e+00 - lr: 0.0010\n",
            "Epoch 4/50\n",
            "4/4 [==============================] - 13s 4s/step - loss: 6.6849 - accuracy: 0.0256 - val_loss: 6.8049 - val_accuracy: 0.0000e+00 - lr: 0.0010\n",
            "Epoch 5/50\n",
            "4/4 [==============================] - 21s 7s/step - loss: 6.3715 - accuracy: 0.0342 - val_loss: 6.7064 - val_accuracy: 0.0000e+00 - lr: 0.0010\n",
            "Epoch 6/50\n",
            "4/4 [==============================] - 14s 4s/step - loss: 6.1622 - accuracy: 0.0427 - val_loss: 6.5766 - val_accuracy: 0.0000e+00 - lr: 0.0010\n",
            "Epoch 7/50\n",
            "4/4 [==============================] - 20s 6s/step - loss: 5.7968 - accuracy: 0.0085 - val_loss: 6.5610 - val_accuracy: 0.0000e+00 - lr: 0.0010\n",
            "Epoch 8/50\n",
            "4/4 [==============================] - 1s 137ms/step - loss: 5.3247 - accuracy: 0.0513 - val_loss: 6.6507 - val_accuracy: 0.0000e+00 - lr: 0.0010\n",
            "Epoch 9/50\n",
            "4/4 [==============================] - 38s 12s/step - loss: 4.8281 - accuracy: 0.1197 - val_loss: 6.4678 - val_accuracy: 0.0000e+00 - lr: 0.0010\n",
            "Epoch 10/50\n",
            "4/4 [==============================] - 45s 15s/step - loss: 4.8307 - accuracy: 0.0940 - val_loss: 6.3370 - val_accuracy: 0.0000e+00 - lr: 0.0010\n",
            "Epoch 11/50\n",
            "4/4 [==============================] - 1s 149ms/step - loss: 4.5880 - accuracy: 0.0684 - val_loss: 6.5896 - val_accuracy: 0.0000e+00 - lr: 0.0010\n",
            "Epoch 12/50\n",
            "4/4 [==============================] - 1s 147ms/step - loss: 4.1969 - accuracy: 0.1026 - val_loss: 6.5399 - val_accuracy: 0.0000e+00 - lr: 0.0010\n",
            "Epoch 13/50\n",
            "4/4 [==============================] - 1s 147ms/step - loss: 4.1859 - accuracy: 0.1197 - val_loss: 6.4805 - val_accuracy: 0.0000e+00 - lr: 0.0010\n",
            "Epoch 14/50\n",
            "4/4 [==============================] - 1s 147ms/step - loss: 4.0722 - accuracy: 0.1368 - val_loss: 6.4455 - val_accuracy: 0.0000e+00 - lr: 0.0010\n",
            "Epoch 15/50\n",
            "4/4 [==============================] - 1s 159ms/step - loss: 3.6740 - accuracy: 0.1453 - val_loss: 6.6219 - val_accuracy: 0.0000e+00 - lr: 0.0010\n",
            "Epoch 16/50\n",
            "4/4 [==============================] - 1s 148ms/step - loss: 3.5845 - accuracy: 0.1453 - val_loss: 6.7153 - val_accuracy: 0.0000e+00 - lr: 0.0010\n",
            "Epoch 17/50\n",
            "4/4 [==============================] - 1s 158ms/step - loss: 3.5446 - accuracy: 0.1538 - val_loss: 6.7003 - val_accuracy: 0.0000e+00 - lr: 0.0010\n",
            "Epoch 18/50\n",
            "4/4 [==============================] - 1s 137ms/step - loss: 3.2411 - accuracy: 0.2051 - val_loss: 7.1063 - val_accuracy: 0.0000e+00 - lr: 0.0010\n",
            "Epoch 19/50\n",
            "4/4 [==============================] - 1s 136ms/step - loss: 3.3537 - accuracy: 0.2051 - val_loss: 6.9526 - val_accuracy: 0.0667 - lr: 0.0010\n",
            "Epoch 20/50\n",
            "4/4 [==============================] - 1s 339ms/step - loss: 3.2078 - accuracy: 0.2393 - val_loss: 6.7416 - val_accuracy: 0.0000e+00 - lr: 0.0010\n",
            "1/1 - 0s - loss: 6.3370 - accuracy: 0.0000e+00 - 37ms/epoch - 37ms/step\n",
            "Validation Loss: 6.336982250213623\n",
            "Validation Accuracy: 0.0\n"
          ]
        }
      ]
    },
    {
      "cell_type": "markdown",
      "source": [
        "# accuracy 증가 시도 --- 학습률 조정, 드롭아웃 레이어 추가--- 안 늘어남"
      ],
      "metadata": {
        "id": "BvxPyeygyDZS"
      }
    },
    {
      "cell_type": "markdown",
      "source": [
        "학습률 조정: Adam 옵티마이저의 학습률을 0.0001로 설정\n",
        "\n",
        "에포크 수 증가: 학습을 더 오래 진행\n",
        "\n",
        "드롭아웃 추가: 과적합을 방지하기 위해 드롭아웃 레이어를 추가"
      ],
      "metadata": {
        "id": "phl-1-j9yRKQ"
      }
    },
    {
      "cell_type": "code",
      "source": [
        "import tensorflow as tf\n",
        "import numpy as np\n",
        "import pandas as pd\n",
        "import librosa\n",
        "import matplotlib.pyplot as plt\n",
        "\n",
        "from sklearn.model_selection import train_test_split\n",
        "from tensorflow.keras import models, layers\n",
        "from tensorflow.keras.preprocessing.sequence import pad_sequences\n",
        "\n",
        "# Google Drive 마운트 및 데이터 로드\n",
        "from google.colab import drive\n",
        "drive.mount('/content/drive')\n",
        "file_path = \"/content/drive/My Drive/soundAI/df_concat.csv\"\n",
        "df = pd.read_csv(file_path)\n",
        "\n",
        "# 데이터 전처리\n",
        "features = df['feature'].apply(eval).tolist()\n",
        "max_len = max(len(feature) for feature in features)\n",
        "max_dim = max(len(feature[0]) if len(feature) > 0 else 0 for feature in features)\n",
        "\n",
        "padded_features = np.array([np.pad(feature, ((0, max_len - len(feature)), (0, max_dim - len(feature[0]))), mode='constant') if len(feature) > 0 else np.zeros((max_len, max_dim)) for feature in features], dtype='float32')\n",
        "\n",
        "X = np.array(padded_features)\n",
        "y = np.array(df['label'].tolist())\n",
        "\n",
        "if len(X.shape) == 3:\n",
        "    X = X[..., np.newaxis]\n",
        "\n",
        "num_classes = np.max(y) + 1\n",
        "\n",
        "X_train, X_temp, y_train, y_temp = train_test_split(X, y, test_size=0.2, random_state=42)\n",
        "X_val, X_test, y_val, y_test = train_test_split(X_temp, y_temp, test_size=0.5, random_state=42)\n",
        "\n",
        "def create_model(input_shape, num_classes):\n",
        "    model = models.Sequential()\n",
        "    model.add(layers.Conv2D(32, (3, 3), activation='relu', input_shape=input_shape))\n",
        "    model.add(layers.MaxPooling2D((2, 2)))\n",
        "    model.add(layers.Conv2D(64, (3, 3), activation='relu'))\n",
        "    model.add(layers.MaxPooling2D((2, 2)))\n",
        "    model.add(layers.Conv2D(128, (3, 3), activation='relu'))\n",
        "    model.add(layers.Flatten())\n",
        "    model.add(layers.Dense(128, activation='relu'))\n",
        "    model.add(layers.Dropout(0.5))  # Dropout 추가\n",
        "    model.add(layers.Dense(num_classes, activation='softmax'))\n",
        "    return model\n",
        "\n",
        "input_shape = (X.shape[1], X.shape[2], 1)\n",
        "model = create_model(input_shape, num_classes)\n",
        "model.compile(optimizer=tf.keras.optimizers.Adam(learning_rate=0.0001), loss='sparse_categorical_crossentropy', metrics=['accuracy'])\n",
        "\n",
        "\n",
        "\n",
        "history = model.fit(\n",
        "    X_train, y_train,\n",
        "    epochs=3,\n",
        "    batch_size=32,\n",
        "    validation_data=(X_val, y_val),\n",
        "\n",
        ")\n",
        "\n",
        "val_loss, val_accuracy = model.evaluate(X_val, y_val, verbose=2)\n",
        "print(f'Validation Loss: {val_loss}')\n",
        "print(f'Validation Accuracy: {val_accuracy}')\n"
      ],
      "metadata": {
        "colab": {
          "base_uri": "https://localhost:8080/"
        },
        "id": "gNHUEH43yGLE",
        "outputId": "ad05d63c-920c-45b6-ea40-be76b1814cb2"
      },
      "execution_count": null,
      "outputs": [
        {
          "output_type": "stream",
          "name": "stdout",
          "text": [
            "Drive already mounted at /content/drive; to attempt to forcibly remount, call drive.mount(\"/content/drive\", force_remount=True).\n",
            "Epoch 1/3\n",
            "4/4 [==============================] - 2s 213ms/step - loss: 7.2270 - accuracy: 0.0000e+00 - val_loss: 7.2507 - val_accuracy: 0.0000e+00\n",
            "Epoch 2/3\n",
            "4/4 [==============================] - 1s 133ms/step - loss: 7.0962 - accuracy: 0.0000e+00 - val_loss: 7.2359 - val_accuracy: 0.0000e+00\n",
            "Epoch 3/3\n",
            "4/4 [==============================] - 1s 134ms/step - loss: 6.9517 - accuracy: 0.0000e+00 - val_loss: 7.1950 - val_accuracy: 0.0000e+00\n",
            "1/1 - 0s - loss: 7.1950 - accuracy: 0.0000e+00 - 35ms/epoch - 35ms/step\n",
            "Validation Loss: 7.195042133331299\n",
            "Validation Accuracy: 0.0\n"
          ]
        }
      ]
    },
    {
      "cell_type": "markdown",
      "source": [
        "# Tensorflow로 CNN"
      ],
      "metadata": {
        "id": "_RE61huX070o"
      }
    },
    {
      "cell_type": "markdown",
      "source": [
        "배치 정규화 추가: 각 컨볼루션 레이어 뒤에 배치 정규화 레이어를 추가하여 학습을 안정화하고 과적합을 방지"
      ],
      "metadata": {
        "id": "0nn1Qtfe1IDk"
      }
    },
    {
      "cell_type": "code",
      "source": [
        "import tensorflow as tf\n",
        "import numpy as np\n",
        "import pandas as pd\n",
        "import librosa\n",
        "import matplotlib.pyplot as plt\n",
        "\n",
        "from sklearn.model_selection import train_test_split\n",
        "from tensorflow.keras import models, layers\n",
        "from tensorflow.keras.preprocessing.sequence import pad_sequences\n",
        "\n",
        "# Google Drive 마운트 및 데이터 로드\n",
        "from google.colab import drive\n",
        "drive.mount('/content/drive', force_remount=True)\n",
        "file_path = \"/content/drive/My Drive/soundAI/df_concat.csv\"\n",
        "df = pd.read_csv(file_path)\n",
        "\n",
        "# 데이터 전처리\n",
        "features = df['feature'].apply(eval).tolist()\n",
        "max_len = max(len(feature) for feature in features)\n",
        "max_dim = max(len(feature[0]) if len(feature) > 0 else 0 for feature in features)\n",
        "\n",
        "padded_features = np.array([np.pad(feature, ((0, max_len - len(feature)), (0, max_dim - len(feature[0]))), mode='constant') if len(feature) > 0 else np.zeros((max_len, max_dim)) for feature in features], dtype='float32')\n",
        "\n",
        "X = np.array(padded_features)\n",
        "y = np.array(df['label'].tolist())\n",
        "\n",
        "if len(X.shape) == 3:\n",
        "    X = X[..., np.newaxis]\n",
        "\n",
        "num_classes = np.max(y) + 1\n",
        "\n",
        "X_train, X_temp, y_train, y_temp = train_test_split(X, y, test_size=0.2, random_state=42)\n",
        "X_val, X_test, y_val, y_test = train_test_split(X_temp, y_temp, test_size=0.5, random_state=42)"
      ],
      "metadata": {
        "colab": {
          "base_uri": "https://localhost:8080/"
        },
        "id": "NPmIFEBo1I0i",
        "outputId": "91d133c1-f64d-4739-cee5-772928b9ead7"
      },
      "execution_count": null,
      "outputs": [
        {
          "output_type": "stream",
          "name": "stdout",
          "text": [
            "Mounted at /content/drive\n"
          ]
        }
      ]
    },
    {
      "cell_type": "code",
      "source": [
        "# CNN 모델 사용\n",
        "def create_model(input_shape, num_classes):\n",
        "    model = models.Sequential()\n",
        "    model.add(layers.Conv2D(32, (3, 3), activation='relu', input_shape=input_shape))\n",
        "    model.add(layers.BatchNormalization())\n",
        "    model.add(layers.MaxPooling2D((2, 2)))\n",
        "    model.add(layers.Conv2D(64, (3, 3), activation='relu'))\n",
        "    model.add(layers.BatchNormalization())\n",
        "    model.add(layers.MaxPooling2D((2, 2)))\n",
        "    model.add(layers.Conv2D(128, (3, 3), activation='relu'))\n",
        "    model.add(layers.BatchNormalization())\n",
        "    model.add(layers.MaxPooling2D((2, 2)))\n",
        "    model.add(layers.Flatten())\n",
        "    model.add(layers.Dense(128, activation='relu'))\n",
        "    model.add(layers.Dropout(0.5))\n",
        "    model.add(layers.Dense(num_classes, activation='softmax'))\n",
        "    return model\n",
        "\n",
        "input_shape = (X.shape[1], X.shape[2], 1)\n",
        "model = create_model(input_shape, num_classes)\n",
        "#model.compile(optimizer=tf.keras.optimizers.Adam(learning_rate=0.0001), loss='sparse_categorical_crossentropy', metrics=['accuracy'])\n",
        "model.compile(optimizer='adam',loss='sparse_categorical_crossentropy',metrics=['accuracy'])\n",
        "\n",
        "#checkpoint = tf.keras.callbacks.ModelCheckpoint('best_model.h5', monitor='val_loss', save_best_only=True, mode='min')\n",
        "#early_stopping = tf.keras.callbacks.EarlyStopping(monitor='val_loss', patience=10, restore_best_weights=True)\n",
        "#reduce_lr = tf.keras.callbacks.ReduceLROnPlateau(monitor='val_loss', factor=0.2, patience=5, min_lr=0.00001)\n",
        "\n",
        "history = model.fit(X_train, y_train, epochs=50, validation_data=(X_val, y_val))\n",
        "#history = model.fit(X_train, y_train, epochs=50, batch_size=32, validation_data=(X_val, y_val),callbacks=[checkpoint, early_stopping, reduce_lr])\n",
        "\n",
        "\n",
        "#val_loss, val_acc = model.evaluate(X_val,y_val)\n",
        "#test_loss, test_acc = model.evaluate(X_test,y_test)\n",
        "\n",
        "val_loss, val_accuracy = model.evaluate(X_val, y_val, verbose=2)\n",
        "print(f'Validation Loss: {val_loss}')\n",
        "print(f'Validation Accuracy: {val_accuracy}')"
      ],
      "metadata": {
        "colab": {
          "base_uri": "https://localhost:8080/"
        },
        "id": "IcZq683l1K5S",
        "outputId": "e904ee3c-b727-47c5-cfc1-d0381b8326da"
      },
      "execution_count": null,
      "outputs": [
        {
          "output_type": "stream",
          "name": "stdout",
          "text": [
            "Epoch 1/50\n",
            "4/4 [==============================] - 15s 1s/step - loss: 50.3274 - accuracy: 0.0000e+00 - val_loss: 7.1332 - val_accuracy: 0.0000e+00\n",
            "Epoch 2/50\n",
            "4/4 [==============================] - 1s 167ms/step - loss: 14.8666 - accuracy: 0.0000e+00 - val_loss: 7.6753 - val_accuracy: 0.0000e+00\n",
            "Epoch 3/50\n",
            "4/4 [==============================] - 1s 160ms/step - loss: 8.0231 - accuracy: 0.0171 - val_loss: 7.3437 - val_accuracy: 0.0000e+00\n",
            "Epoch 4/50\n",
            "4/4 [==============================] - 1s 160ms/step - loss: 7.3246 - accuracy: 0.0085 - val_loss: 7.3865 - val_accuracy: 0.0000e+00\n",
            "Epoch 5/50\n",
            "4/4 [==============================] - 1s 160ms/step - loss: 7.0502 - accuracy: 0.0171 - val_loss: 7.4739 - val_accuracy: 0.0000e+00\n",
            "Epoch 6/50\n",
            "4/4 [==============================] - 1s 158ms/step - loss: 7.0278 - accuracy: 0.0085 - val_loss: 7.5303 - val_accuracy: 0.0000e+00\n",
            "Epoch 7/50\n",
            "4/4 [==============================] - 1s 170ms/step - loss: 7.1296 - accuracy: 0.0427 - val_loss: 7.4327 - val_accuracy: 0.0000e+00\n",
            "Epoch 8/50\n",
            "4/4 [==============================] - 1s 173ms/step - loss: 6.8157 - accuracy: 0.0342 - val_loss: 7.3335 - val_accuracy: 0.0000e+00\n",
            "Epoch 9/50\n",
            "4/4 [==============================] - 1s 171ms/step - loss: 6.9858 - accuracy: 0.0085 - val_loss: 7.2835 - val_accuracy: 0.0000e+00\n",
            "Epoch 10/50\n",
            "4/4 [==============================] - 1s 172ms/step - loss: 6.8727 - accuracy: 0.0256 - val_loss: 7.3746 - val_accuracy: 0.0000e+00\n",
            "Epoch 11/50\n",
            "4/4 [==============================] - 1s 163ms/step - loss: 6.9563 - accuracy: 0.0256 - val_loss: 8.0860 - val_accuracy: 0.0000e+00\n",
            "Epoch 12/50\n",
            "4/4 [==============================] - 1s 175ms/step - loss: 6.8510 - accuracy: 0.0427 - val_loss: 9.3685 - val_accuracy: 0.0000e+00\n",
            "Epoch 13/50\n",
            "4/4 [==============================] - 1s 164ms/step - loss: 6.7750 - accuracy: 0.0513 - val_loss: 10.9901 - val_accuracy: 0.0000e+00\n",
            "Epoch 14/50\n",
            "4/4 [==============================] - 1s 151ms/step - loss: 6.8463 - accuracy: 0.0427 - val_loss: 12.7893 - val_accuracy: 0.0000e+00\n",
            "Epoch 15/50\n",
            "4/4 [==============================] - 1s 148ms/step - loss: 6.7197 - accuracy: 0.0427 - val_loss: 13.2957 - val_accuracy: 0.0000e+00\n",
            "Epoch 16/50\n",
            "4/4 [==============================] - 1s 151ms/step - loss: 6.7123 - accuracy: 0.0513 - val_loss: 14.4515 - val_accuracy: 0.0000e+00\n",
            "Epoch 17/50\n",
            "4/4 [==============================] - 1s 149ms/step - loss: 6.8430 - accuracy: 0.0427 - val_loss: 16.3200 - val_accuracy: 0.0000e+00\n",
            "Epoch 18/50\n",
            "4/4 [==============================] - 1s 166ms/step - loss: 6.8416 - accuracy: 0.0342 - val_loss: 18.7889 - val_accuracy: 0.0000e+00\n",
            "Epoch 19/50\n",
            "4/4 [==============================] - 1s 169ms/step - loss: 6.6927 - accuracy: 0.0427 - val_loss: 20.7592 - val_accuracy: 0.0000e+00\n",
            "Epoch 20/50\n",
            "4/4 [==============================] - 1s 158ms/step - loss: 6.7529 - accuracy: 0.0427 - val_loss: 21.9679 - val_accuracy: 0.0000e+00\n",
            "Epoch 21/50\n",
            "4/4 [==============================] - 1s 170ms/step - loss: 6.7780 - accuracy: 0.0342 - val_loss: 23.2996 - val_accuracy: 0.0000e+00\n",
            "Epoch 22/50\n",
            "4/4 [==============================] - 1s 168ms/step - loss: 6.6947 - accuracy: 0.0598 - val_loss: 24.3673 - val_accuracy: 0.0000e+00\n",
            "Epoch 23/50\n",
            "4/4 [==============================] - 1s 153ms/step - loss: 6.6424 - accuracy: 0.0427 - val_loss: 26.6917 - val_accuracy: 0.0000e+00\n",
            "Epoch 24/50\n",
            "4/4 [==============================] - 1s 148ms/step - loss: 6.6237 - accuracy: 0.0427 - val_loss: 28.4410 - val_accuracy: 0.0000e+00\n",
            "Epoch 25/50\n",
            "4/4 [==============================] - 1s 152ms/step - loss: 6.7335 - accuracy: 0.0342 - val_loss: 29.9775 - val_accuracy: 0.0000e+00\n",
            "Epoch 26/50\n",
            "4/4 [==============================] - 1s 148ms/step - loss: 6.8044 - accuracy: 0.0342 - val_loss: 29.4462 - val_accuracy: 0.0000e+00\n",
            "Epoch 27/50\n",
            "4/4 [==============================] - 1s 162ms/step - loss: 6.7505 - accuracy: 0.0427 - val_loss: 28.4529 - val_accuracy: 0.0000e+00\n",
            "Epoch 28/50\n",
            "4/4 [==============================] - 1s 148ms/step - loss: 6.7118 - accuracy: 0.0427 - val_loss: 29.2191 - val_accuracy: 0.0000e+00\n",
            "Epoch 29/50\n",
            "4/4 [==============================] - 1s 146ms/step - loss: 6.7098 - accuracy: 0.0427 - val_loss: 30.4444 - val_accuracy: 0.0000e+00\n",
            "Epoch 30/50\n",
            "4/4 [==============================] - 1s 148ms/step - loss: 6.7147 - accuracy: 0.0513 - val_loss: 31.6316 - val_accuracy: 0.0000e+00\n",
            "Epoch 31/50\n",
            "4/4 [==============================] - 1s 148ms/step - loss: 6.8990 - accuracy: 0.0342 - val_loss: 32.3912 - val_accuracy: 0.0000e+00\n",
            "Epoch 32/50\n",
            "4/4 [==============================] - 1s 149ms/step - loss: 6.6767 - accuracy: 0.0427 - val_loss: 31.5411 - val_accuracy: 0.0000e+00\n",
            "Epoch 33/50\n",
            "4/4 [==============================] - 1s 148ms/step - loss: 6.6496 - accuracy: 0.0513 - val_loss: 30.9947 - val_accuracy: 0.0000e+00\n",
            "Epoch 34/50\n",
            "4/4 [==============================] - 1s 148ms/step - loss: 6.8095 - accuracy: 0.0513 - val_loss: 31.6106 - val_accuracy: 0.0000e+00\n",
            "Epoch 35/50\n",
            "4/4 [==============================] - 1s 150ms/step - loss: 6.7950 - accuracy: 0.0256 - val_loss: 34.8516 - val_accuracy: 0.0000e+00\n",
            "Epoch 36/50\n",
            "4/4 [==============================] - 1s 148ms/step - loss: 6.5505 - accuracy: 0.0598 - val_loss: 39.0088 - val_accuracy: 0.0000e+00\n",
            "Epoch 37/50\n",
            "4/4 [==============================] - 1s 164ms/step - loss: 6.6811 - accuracy: 0.0427 - val_loss: 39.3431 - val_accuracy: 0.0000e+00\n",
            "Epoch 38/50\n",
            "4/4 [==============================] - 1s 147ms/step - loss: 6.7307 - accuracy: 0.0256 - val_loss: 38.5096 - val_accuracy: 0.0000e+00\n",
            "Epoch 39/50\n",
            "4/4 [==============================] - 1s 150ms/step - loss: 6.9570 - accuracy: 0.0256 - val_loss: 40.6111 - val_accuracy: 0.0000e+00\n",
            "Epoch 40/50\n",
            "4/4 [==============================] - 1s 165ms/step - loss: 6.7364 - accuracy: 0.0427 - val_loss: 44.4150 - val_accuracy: 0.0000e+00\n",
            "Epoch 41/50\n",
            "4/4 [==============================] - 1s 170ms/step - loss: 6.6735 - accuracy: 0.0342 - val_loss: 51.5936 - val_accuracy: 0.0000e+00\n",
            "Epoch 42/50\n",
            "4/4 [==============================] - 1s 170ms/step - loss: 6.7221 - accuracy: 0.0342 - val_loss: 56.7035 - val_accuracy: 0.0000e+00\n",
            "Epoch 43/50\n",
            "4/4 [==============================] - 1s 173ms/step - loss: 6.6608 - accuracy: 0.0256 - val_loss: 60.9540 - val_accuracy: 0.0000e+00\n",
            "Epoch 44/50\n",
            "4/4 [==============================] - 1s 157ms/step - loss: 6.8652 - accuracy: 0.0256 - val_loss: 57.8254 - val_accuracy: 0.0000e+00\n",
            "Epoch 45/50\n",
            "4/4 [==============================] - 1s 151ms/step - loss: 6.6189 - accuracy: 0.0513 - val_loss: 49.3133 - val_accuracy: 0.0000e+00\n",
            "Epoch 46/50\n",
            "4/4 [==============================] - 1s 149ms/step - loss: 6.6385 - accuracy: 0.0342 - val_loss: 43.6967 - val_accuracy: 0.0000e+00\n",
            "Epoch 47/50\n",
            "4/4 [==============================] - 1s 162ms/step - loss: 6.5494 - accuracy: 0.0513 - val_loss: 39.5165 - val_accuracy: 0.0000e+00\n",
            "Epoch 48/50\n",
            "4/4 [==============================] - 1s 150ms/step - loss: 6.5890 - accuracy: 0.0342 - val_loss: 36.9761 - val_accuracy: 0.0000e+00\n",
            "Epoch 49/50\n",
            "4/4 [==============================] - 1s 149ms/step - loss: 6.6463 - accuracy: 0.0256 - val_loss: 35.2868 - val_accuracy: 0.0000e+00\n",
            "Epoch 50/50\n",
            "4/4 [==============================] - 1s 148ms/step - loss: 6.5885 - accuracy: 0.0427 - val_loss: 35.5165 - val_accuracy: 0.0000e+00\n",
            "1/1 - 0s - loss: 35.5165 - accuracy: 0.0000e+00 - 42ms/epoch - 42ms/step\n",
            "Validation Loss: 35.51648712158203\n",
            "Validation Accuracy: 0.0\n"
          ]
        }
      ]
    },
    {
      "cell_type": "markdown",
      "source": [
        "데이터 증강을 더 잘해서 정확도를 올리는 방법을.................."
      ],
      "metadata": {
        "id": "RmWqWbxS36Gj"
      }
    },
    {
      "cell_type": "markdown",
      "source": [
        "import torch.optim as optim # 최적화 알고리즘들이 포함힘\n",
        "\n",
        "model = CNNclassification().to(device)\n",
        "criterion = torch.nn.CrossEntropyLoss().to(device)\n",
        "optimizer = torch.optim.SGD(params = model.parameters(), lr = 1e-3 )\n",
        "scheduler = None\n",
        "\n",
        "model(torch.rand(10, 40, 12, 1).to(device))\n",
        "\n",
        "이 방법 시도해보자"
      ],
      "metadata": {
        "id": "XE_rpqn-b3qc"
      }
    },
    {
      "cell_type": "markdown",
      "source": [
        "# Pytorch로 CNN"
      ],
      "metadata": {
        "id": "iKxvhYN1CKW4"
      }
    },
    {
      "cell_type": "markdown",
      "source": [
        "mport torch.optim as optim # 최적화 알고리즘들이 포함힘\n",
        "\n",
        "model = CNNclassification().to(device) criterion = torch.nn.CrossEntropyLoss().to(device) optimizer = torch.optim.SGD(params = model.parameters(), lr = 1e-3 ) scheduler = None\n",
        "\n",
        "model(torch.rand(10, 40, 12, 1).to(device))\n",
        "\n",
        "이 방법 시도해보자"
      ],
      "metadata": {
        "id": "Gbn6X4hUC4T_"
      }
    },
    {
      "cell_type": "markdown",
      "source": [
        "필요한 라이브러리 가져오기\n",
        "\n",
        "데이터 로드 및 전처리\n",
        "\n",
        "CNN 모델 정의\n",
        "\n",
        "손실 함수 및 옵티마이저 정의\n",
        "\n",
        "모델 학습 및 검증\n"
      ],
      "metadata": {
        "id": "Kab1PoMyD9L6"
      }
    },
    {
      "cell_type": "markdown",
      "source": [
        "*데이터 전처리*"
      ],
      "metadata": {
        "id": "hUFPXMn4GP0Z"
      }
    },
    {
      "cell_type": "code",
      "source": [
        "import torch\n",
        "import torch.nn as nn\n",
        "import torch.optim as optim\n",
        "import torchvision.transforms as transforms\n",
        "from torch.utils.data import DataLoader, TensorDataset, random_split\n",
        "import pandas as pd\n",
        "import numpy as np\n",
        "from sklearn.model_selection import train_test_split\n",
        "\n",
        "\n",
        "# Google Drive 마운트 및 데이터 로드\n",
        "from google.colab import drive\n",
        "drive.mount('/content/drive', force_remount=True)\n",
        "file_path = \"/content/drive/My Drive/soundAI/df_concat.csv\"\n",
        "df = pd.read_csv(file_path)\n",
        "\n"
      ],
      "metadata": {
        "colab": {
          "base_uri": "https://localhost:8080/"
        },
        "id": "GMuc7tBeEAai",
        "outputId": "161e14f4-05c2-40e2-9206-6e0759b41b3c"
      },
      "execution_count": null,
      "outputs": [
        {
          "output_type": "stream",
          "name": "stdout",
          "text": [
            "Mounted at /content/drive\n"
          ]
        }
      ]
    },
    {
      "cell_type": "code",
      "source": [
        "#데이터 추출 및 리스트 변환\n",
        "# csv 파일에서 feature 열을 추출\n",
        "#feature은 문자열 형태로 저장되어 있어서 리스트로 변환\n",
        "feature=df['feature'].apply(eval).tolist()"
      ],
      "metadata": {
        "id": "Cf8af4cGEvEh"
      },
      "execution_count": null,
      "outputs": []
    },
    {
      "cell_type": "code",
      "source": [
        "#패딩을 통해 입력데이터의 크기를 동일하게 맞춤\n",
        "#패딩 값은 -1로\n",
        "\n",
        "max_len = max(len(feature) for feature in feature)\n",
        "max_dim = max(len(feature[0]) if len(feature) > 0 else 0 for feature in feature)\n",
        "\n",
        "# 패딩 값을 -1로 설정\n",
        "padded_features = np.array([np.pad(feature, ((0, max_len - len(feature)), (0, max_dim - len(feature[0]))), mode='constant', constant_values=-1) if len(feature) > 0 else -1 * np.ones((max_len, max_dim)) for feature in feature], dtype='float32')\n"
      ],
      "metadata": {
        "id": "3FWToRw3b_th"
      },
      "execution_count": null,
      "outputs": []
    },
    {
      "cell_type": "code",
      "source": [
        "#입력 데이터 및 레이블 변환\n",
        "X = np.array(padded_features)\n",
        "y = np.array(df['label'].tolist())\n"
      ],
      "metadata": {
        "id": "DFX4kco4FwxB"
      },
      "execution_count": null,
      "outputs": []
    },
    {
      "cell_type": "code",
      "source": [
        "#입력 데이터 차원 확장\n",
        "#3차원 -> 4차원\n",
        "\n",
        "if len(X.shape) == 3:\n",
        "    X = X[..., np.newaxis]\n"
      ],
      "metadata": {
        "id": "M1UVxXj_HaEX"
      },
      "execution_count": null,
      "outputs": []
    },
    {
      "cell_type": "markdown",
      "source": [
        "*레이블이 유효한 범위 내에 있는지 확인 및 범위 조정*"
      ],
      "metadata": {
        "id": "TwZDO3NvUVfg"
      }
    },
    {
      "cell_type": "code",
      "source": [
        "# 레이블이 유효한 범위 내에 있는지 확인 및 범위 조정\n",
        "min_label = y.min()\n",
        "y = y - min_label\n",
        "num_classes = y.max() + 1\n",
        "assert y.min() >= 0 and y.max() < num_classes, \"레이블이 유효한 범위를 벗어났습니다\"\n"
      ],
      "metadata": {
        "id": "A7-NbYKcUZo9"
      },
      "execution_count": null,
      "outputs": []
    },
    {
      "cell_type": "markdown",
      "source": [
        "*PyTorch 텐서로 변환*"
      ],
      "metadata": {
        "id": "b77iwmLGZFO1"
      }
    },
    {
      "cell_type": "code",
      "source": [
        "# PyTorch 텐서로 변환\n",
        "X = torch.tensor(X, dtype=torch.float32)\n",
        "if len(X.shape) == 3:\n",
        "    X = X.unsqueeze(1)  # 채널 차원을 추가하여 [batch_size, 1, height, width]로 변환\n",
        "y = torch.tensor(y, dtype=torch.long)\n"
      ],
      "metadata": {
        "id": "I76IH9kfHkey"
      },
      "execution_count": null,
      "outputs": []
    },
    {
      "cell_type": "markdown",
      "source": [
        "*num_classes 정의*"
      ],
      "metadata": {
        "id": "ECEE_mBVO-Cl"
      }
    },
    {
      "cell_type": "code",
      "source": [
        "# y를 numpy 배열로 변환\n",
        "y_tensor = torch.tensor(y, dtype=torch.long)\n",
        "num_classes = len(torch.unique(y_tensor))\n"
      ],
      "metadata": {
        "colab": {
          "base_uri": "https://localhost:8080/"
        },
        "id": "MM9_aUK9PC45",
        "outputId": "ed450c01-e640-4007-9331-c924abeafc8a"
      },
      "execution_count": null,
      "outputs": [
        {
          "output_type": "stream",
          "name": "stderr",
          "text": [
            "<ipython-input-36-6611f4b038c7>:2: UserWarning: To copy construct from a tensor, it is recommended to use sourceTensor.clone().detach() or sourceTensor.clone().detach().requires_grad_(True), rather than torch.tensor(sourceTensor).\n",
            "  y_tensor = torch.tensor(y, dtype=torch.long)\n"
          ]
        }
      ]
    },
    {
      "cell_type": "code",
      "source": [
        "import os\n",
        "os.environ['CUDA_LAUNCH_BLOCKING'] = '1'\n",
        "\n",
        "# 디버깅을 위한 레이블 값 확인\n",
        "unique_labels = torch.unique(y)\n",
        "print(f'Unique labels in dataset: {unique_labels}')\n",
        "print(f'Num classes: {num_classes}')\n"
      ],
      "metadata": {
        "colab": {
          "base_uri": "https://localhost:8080/"
        },
        "id": "hRo3cp6eQt2i",
        "outputId": "88704fe5-2c4b-4d1b-cf7f-d8e35e5f0202"
      },
      "execution_count": null,
      "outputs": [
        {
          "output_type": "stream",
          "name": "stdout",
          "text": [
            "Unique labels in dataset: tensor([   0,    1,    2,    3,    4,    5,    6,    7,    8,    9,   10,   11,\n",
            "          12,  101,  102,  103,  104,  105,  106,  107,  108,  109,  110,  111,\n",
            "         112,  202,  203,  204,  205,  206,  207,  208,  209,  210,  211,  212,\n",
            "         303,  304,  305,  306,  307,  308,  309,  310,  311,  312,  404,  405,\n",
            "         406,  407,  408,  409,  410,  411,  412,  505,  506,  507,  508,  509,\n",
            "         510,  511,  512,  606,  607,  608,  609,  610,  611,  612,  707,  708,\n",
            "         709,  710,  711,  712,  808,  809,  810,  811,  812,  909,  910,  911,\n",
            "         912, 1010, 1011, 1012, 1111, 1112, 1212])\n",
            "Num classes: 91\n"
          ]
        }
      ]
    },
    {
      "cell_type": "markdown",
      "source": [
        "*Train, Test DataSet으로 분할*"
      ],
      "metadata": {
        "id": "BqJuCVlEHtz0"
      }
    },
    {
      "cell_type": "code",
      "source": [
        "dataset = TensorDataset(X, y)\n",
        "train_size = int(0.8 * len(dataset))\n",
        "val_size = int(0.1 * len(dataset))\n",
        "test_size = len(dataset) - train_size - val_size\n",
        "\n",
        "train_dataset, val_dataset, test_dataset = random_split(dataset, [train_size, val_size, test_size])\n"
      ],
      "metadata": {
        "id": "q92jLBJOHymP"
      },
      "execution_count": null,
      "outputs": []
    },
    {
      "cell_type": "markdown",
      "source": [
        "*데이터 증강*"
      ],
      "metadata": {
        "id": "m7kr6CN4IDqO"
      }
    },
    {
      "cell_type": "code",
      "source": [
        "# 데이터 증강 기법 적용\n",
        "transform = transforms.Compose([\n",
        "    transforms.RandomHorizontalFlip(),\n",
        "    transforms.RandomRotation(10),\n",
        "    transforms.RandomAffine(0, translate=(0.1, 0.1))\n",
        "])\n",
        "\n",
        "class AugmentedDataset(torch.utils.data.Dataset):\n",
        "    def __init__(self, dataset, transform=None):\n",
        "        self.dataset = dataset\n",
        "        self.transform = transform\n",
        "\n",
        "    def __len__(self):\n",
        "        return len(self.dataset)\n",
        "\n",
        "    def __getitem__(self, idx):\n",
        "        X, y = self.dataset[idx]\n",
        "        if self.transform:\n",
        "            X = self.transform(X)\n",
        "        return X, y\n",
        "\n",
        "augmented_train_dataset = AugmentedDataset(train_dataset, transform=transform)\n"
      ],
      "metadata": {
        "id": "xcwtFhojIGgp"
      },
      "execution_count": null,
      "outputs": []
    },
    {
      "cell_type": "markdown",
      "source": [
        "*DataLoader 생성*"
      ],
      "metadata": {
        "id": "QiZWlZZAH1HP"
      }
    },
    {
      "cell_type": "code",
      "source": [
        "train_loader = DataLoader(augmented_train_dataset, batch_size=32, shuffle=True)\n",
        "val_loader = DataLoader(val_dataset, batch_size=32, shuffle=False)\n",
        "test_loader = DataLoader(test_dataset, batch_size=32, shuffle=False)\n"
      ],
      "metadata": {
        "id": "Ep6gPed_H5PH"
      },
      "execution_count": null,
      "outputs": []
    },
    {
      "cell_type": "markdown",
      "source": [
        "*데이터 로더에서 배치 데이터 형식 확인*"
      ],
      "metadata": {
        "id": "H2LIy7EnRAR2"
      }
    },
    {
      "cell_type": "code",
      "source": [
        "# 데이터 로더에서 배치 데이터 형식 확인\n",
        "X_batch, y_batch = next(iter(train_loader))\n",
        "print(f'X_batch shape: {X_batch.shape}, y_batch shape: {y_batch.shape}')\n"
      ],
      "metadata": {
        "colab": {
          "base_uri": "https://localhost:8080/"
        },
        "id": "arWe5iyZRDrT",
        "outputId": "0caffef4-d8fc-4d1c-8c29-a6b3d162a965"
      },
      "execution_count": null,
      "outputs": [
        {
          "output_type": "stream",
          "name": "stdout",
          "text": [
            "X_batch shape: torch.Size([32, 1025, 130, 1]), y_batch shape: torch.Size([32])\n"
          ]
        }
      ]
    },
    {
      "cell_type": "markdown",
      "source": [
        "*CNN 모델 정의*"
      ],
      "metadata": {
        "id": "flG00mXcNEl9"
      }
    },
    {
      "cell_type": "code",
      "source": [
        "# CNN 모델 정의\n",
        "class CNNclassification(nn.Module):\n",
        "    def __init__(self):\n",
        "        super(CNNclassification, self).__init__()\n",
        "        self.conv1 = nn.Conv2d(1, 32, kernel_size=3, padding=1)\n",
        "        self.bn1 = nn.BatchNorm2d(32)\n",
        "        self.pool1 = nn.MaxPool2d(kernel_size=2)\n",
        "        self.conv2 = nn.Conv2d(32, 64, kernel_size=3, padding=1)\n",
        "        self.bn2 = nn.BatchNorm2d(64)\n",
        "        self.pool2 = nn.MaxPool2d(kernel_size=2)\n",
        "        self.conv3 = nn.Conv2d(64, 128, kernel_size=3, padding=1)\n",
        "        self.bn3 = nn.BatchNorm2d(128)\n",
        "        self.pool3 = nn.MaxPool2d(kernel_size=2)\n",
        "        self.flatten = nn.Flatten()\n",
        "        self.fc1 = nn.Linear(128 * (max_len // 8) * (max_dim // 8), 128)\n",
        "        self.dropout = nn.Dropout(0.5)\n",
        "        self.fc2 = nn.Linear(128, num_classes)\n",
        "\n",
        "    def forward(self, x):\n",
        "        x = self.pool1(self.bn1(torch.relu(self.conv1(x))))\n",
        "        x = self.pool2(self.bn2(torch.relu(self.conv2(x))))\n",
        "        x = self.pool3(self.bn3(torch.relu(self.conv3(x))))\n",
        "        x = self.flatten(x)\n",
        "        x = torch.relu(self.fc1(x))\n",
        "        x = self.dropout(x)\n",
        "        x = self.fc2(x)\n",
        "        return x\n",
        "\n",
        "\n",
        "\n",
        "device = torch.device('cuda' if torch.cuda.is_available() else 'cpu')\n",
        "model = CNNclassification().to(device)\n",
        "\n",
        "criterion = nn.CrossEntropyLoss()\n",
        "optimizer = optim.SGD(model.parameters(), lr=1e-3)\n",
        "scheduler = optim.lr_scheduler.StepLR(optimizer, step_size=10, gamma=0.1)\n"
      ],
      "metadata": {
        "id": "glM53K5JNGyv"
      },
      "execution_count": null,
      "outputs": []
    },
    {
      "cell_type": "markdown",
      "source": [
        "*모델 학습 함수 정의*"
      ],
      "metadata": {
        "id": "UkjeL2joODqm"
      }
    },
    {
      "cell_type": "code",
      "source": [
        "# 모델 학습 함수 정의\n",
        "def train_model(model, criterion, optimizer, scheduler, train_loader, val_loader, epochs=50):\n",
        "    best_val_loss = float('inf')\n",
        "    for epoch in range(epochs):\n",
        "        model.train()\n",
        "        train_loss = 0\n",
        "        for X_batch, y_batch in train_loader:\n",
        "            # 디버깅 문구\n",
        "            print(f'X_batch shape: {X_batch.shape}, y_batch shape: {y_batch.shape}')\n",
        "            X_batch, y_batch = X_batch.to(device), y_batch.to(device)\n",
        "            optimizer.zero_grad()\n",
        "            output = model(X_batch)\n",
        "            loss = criterion(output, y_batch)\n",
        "            loss.backward()\n",
        "            optimizer.step()\n",
        "            train_loss += loss.item() * X_batch.size(0)\n",
        "\n",
        "        train_loss /= len(train_loader.dataset)\n",
        "\n",
        "        model.eval()\n",
        "        val_loss = 0\n",
        "        with torch.no_grad():\n",
        "            for X_batch, y_batch in val_loader:\n",
        "                X_batch, y_batch = X_batch.to(device), y_batch.to(device)\n",
        "                output = model(X_batch)\n",
        "                loss = criterion(output, y_batch)\n",
        "                val_loss += loss.item() * X_batch.size(0)\n",
        "\n",
        "        val_loss /= len(val_loader.dataset)\n",
        "\n",
        "        scheduler.step()\n",
        "\n",
        "        print(f'Epoch {epoch+1}/{epochs}, Train Loss: {train_loss:.4f}, Val Loss: {val_loss:.4f}')\n",
        "\n",
        "        if val_loss < best_val_loss:\n",
        "            best_val_loss = val_loss\n",
        "            torch.save(model.state_dict(), 'best_model.pth')\n"
      ],
      "metadata": {
        "id": "uZ-7UKozPKfR"
      },
      "execution_count": null,
      "outputs": []
    },
    {
      "cell_type": "markdown",
      "source": [
        "*모델 학습 및 검증*"
      ],
      "metadata": {
        "id": "dOTJtXjsPOip"
      }
    },
    {
      "cell_type": "code",
      "source": [
        "# 모델 학습 및 검증\n",
        "train_model(model, criterion, optimizer, scheduler, train_loader, val_loader)"
      ],
      "metadata": {
        "colab": {
          "base_uri": "https://localhost:8080/",
          "height": 356
        },
        "id": "QTv7r_DaPQph",
        "outputId": "85b83901-bc9f-424e-de7f-ad8b75d6a181"
      },
      "execution_count": null,
      "outputs": [
        {
          "output_type": "stream",
          "name": "stdout",
          "text": [
            "X_batch shape: torch.Size([32, 1025, 130, 1]), y_batch shape: torch.Size([32])\n",
            "Input shape: torch.Size([32, 1025, 130, 1])\n"
          ]
        },
        {
          "output_type": "error",
          "ename": "RuntimeError",
          "evalue": "Given groups=1, weight of size [32, 1, 3, 3], expected input[32, 1025, 130, 1] to have 1 channels, but got 1025 channels instead",
          "traceback": [
            "\u001b[0;31m---------------------------------------------------------------------------\u001b[0m",
            "\u001b[0;31mRuntimeError\u001b[0m                              Traceback (most recent call last)",
            "\u001b[0;32m<ipython-input-48-96b95c5cd9f9>\u001b[0m in \u001b[0;36m<cell line: 2>\u001b[0;34m()\u001b[0m\n\u001b[1;32m      1\u001b[0m \u001b[0;31m# 모델 학습 및 검증\u001b[0m\u001b[0;34m\u001b[0m\u001b[0;34m\u001b[0m\u001b[0m\n\u001b[0;32m----> 2\u001b[0;31m \u001b[0mtrain_model\u001b[0m\u001b[0;34m(\u001b[0m\u001b[0mmodel\u001b[0m\u001b[0;34m,\u001b[0m \u001b[0mcriterion\u001b[0m\u001b[0;34m,\u001b[0m \u001b[0moptimizer\u001b[0m\u001b[0;34m,\u001b[0m \u001b[0mscheduler\u001b[0m\u001b[0;34m,\u001b[0m \u001b[0mtrain_loader\u001b[0m\u001b[0;34m,\u001b[0m \u001b[0mval_loader\u001b[0m\u001b[0;34m)\u001b[0m\u001b[0;34m\u001b[0m\u001b[0;34m\u001b[0m\u001b[0m\n\u001b[0m",
            "\u001b[0;32m<ipython-input-46-0f0c792fd51e>\u001b[0m in \u001b[0;36mtrain_model\u001b[0;34m(model, criterion, optimizer, scheduler, train_loader, val_loader, epochs)\u001b[0m\n\u001b[1;32m     10\u001b[0m             \u001b[0mX_batch\u001b[0m\u001b[0;34m,\u001b[0m \u001b[0my_batch\u001b[0m \u001b[0;34m=\u001b[0m \u001b[0mX_batch\u001b[0m\u001b[0;34m.\u001b[0m\u001b[0mto\u001b[0m\u001b[0;34m(\u001b[0m\u001b[0mdevice\u001b[0m\u001b[0;34m)\u001b[0m\u001b[0;34m,\u001b[0m \u001b[0my_batch\u001b[0m\u001b[0;34m.\u001b[0m\u001b[0mto\u001b[0m\u001b[0;34m(\u001b[0m\u001b[0mdevice\u001b[0m\u001b[0;34m)\u001b[0m\u001b[0;34m\u001b[0m\u001b[0;34m\u001b[0m\u001b[0m\n\u001b[1;32m     11\u001b[0m             \u001b[0moptimizer\u001b[0m\u001b[0;34m.\u001b[0m\u001b[0mzero_grad\u001b[0m\u001b[0;34m(\u001b[0m\u001b[0;34m)\u001b[0m\u001b[0;34m\u001b[0m\u001b[0;34m\u001b[0m\u001b[0m\n\u001b[0;32m---> 12\u001b[0;31m             \u001b[0moutput\u001b[0m \u001b[0;34m=\u001b[0m \u001b[0mmodel\u001b[0m\u001b[0;34m(\u001b[0m\u001b[0mX_batch\u001b[0m\u001b[0;34m)\u001b[0m\u001b[0;34m\u001b[0m\u001b[0;34m\u001b[0m\u001b[0m\n\u001b[0m\u001b[1;32m     13\u001b[0m             \u001b[0mloss\u001b[0m \u001b[0;34m=\u001b[0m \u001b[0mcriterion\u001b[0m\u001b[0;34m(\u001b[0m\u001b[0moutput\u001b[0m\u001b[0;34m,\u001b[0m \u001b[0my_batch\u001b[0m\u001b[0;34m)\u001b[0m\u001b[0;34m\u001b[0m\u001b[0;34m\u001b[0m\u001b[0m\n\u001b[1;32m     14\u001b[0m             \u001b[0mloss\u001b[0m\u001b[0;34m.\u001b[0m\u001b[0mbackward\u001b[0m\u001b[0;34m(\u001b[0m\u001b[0;34m)\u001b[0m\u001b[0;34m\u001b[0m\u001b[0;34m\u001b[0m\u001b[0m\n",
            "\u001b[0;32m/usr/local/lib/python3.10/dist-packages/torch/nn/modules/module.py\u001b[0m in \u001b[0;36m_wrapped_call_impl\u001b[0;34m(self, *args, **kwargs)\u001b[0m\n\u001b[1;32m   1509\u001b[0m             \u001b[0;32mreturn\u001b[0m \u001b[0mself\u001b[0m\u001b[0;34m.\u001b[0m\u001b[0m_compiled_call_impl\u001b[0m\u001b[0;34m(\u001b[0m\u001b[0;34m*\u001b[0m\u001b[0margs\u001b[0m\u001b[0;34m,\u001b[0m \u001b[0;34m**\u001b[0m\u001b[0mkwargs\u001b[0m\u001b[0;34m)\u001b[0m  \u001b[0;31m# type: ignore[misc]\u001b[0m\u001b[0;34m\u001b[0m\u001b[0;34m\u001b[0m\u001b[0m\n\u001b[1;32m   1510\u001b[0m         \u001b[0;32melse\u001b[0m\u001b[0;34m:\u001b[0m\u001b[0;34m\u001b[0m\u001b[0;34m\u001b[0m\u001b[0m\n\u001b[0;32m-> 1511\u001b[0;31m             \u001b[0;32mreturn\u001b[0m \u001b[0mself\u001b[0m\u001b[0;34m.\u001b[0m\u001b[0m_call_impl\u001b[0m\u001b[0;34m(\u001b[0m\u001b[0;34m*\u001b[0m\u001b[0margs\u001b[0m\u001b[0;34m,\u001b[0m \u001b[0;34m**\u001b[0m\u001b[0mkwargs\u001b[0m\u001b[0;34m)\u001b[0m\u001b[0;34m\u001b[0m\u001b[0;34m\u001b[0m\u001b[0m\n\u001b[0m\u001b[1;32m   1512\u001b[0m \u001b[0;34m\u001b[0m\u001b[0m\n\u001b[1;32m   1513\u001b[0m     \u001b[0;32mdef\u001b[0m \u001b[0m_call_impl\u001b[0m\u001b[0;34m(\u001b[0m\u001b[0mself\u001b[0m\u001b[0;34m,\u001b[0m \u001b[0;34m*\u001b[0m\u001b[0margs\u001b[0m\u001b[0;34m,\u001b[0m \u001b[0;34m**\u001b[0m\u001b[0mkwargs\u001b[0m\u001b[0;34m)\u001b[0m\u001b[0;34m:\u001b[0m\u001b[0;34m\u001b[0m\u001b[0;34m\u001b[0m\u001b[0m\n",
            "\u001b[0;32m/usr/local/lib/python3.10/dist-packages/torch/nn/modules/module.py\u001b[0m in \u001b[0;36m_call_impl\u001b[0;34m(self, *args, **kwargs)\u001b[0m\n\u001b[1;32m   1518\u001b[0m                 \u001b[0;32mor\u001b[0m \u001b[0m_global_backward_pre_hooks\u001b[0m \u001b[0;32mor\u001b[0m \u001b[0m_global_backward_hooks\u001b[0m\u001b[0;34m\u001b[0m\u001b[0;34m\u001b[0m\u001b[0m\n\u001b[1;32m   1519\u001b[0m                 or _global_forward_hooks or _global_forward_pre_hooks):\n\u001b[0;32m-> 1520\u001b[0;31m             \u001b[0;32mreturn\u001b[0m \u001b[0mforward_call\u001b[0m\u001b[0;34m(\u001b[0m\u001b[0;34m*\u001b[0m\u001b[0margs\u001b[0m\u001b[0;34m,\u001b[0m \u001b[0;34m**\u001b[0m\u001b[0mkwargs\u001b[0m\u001b[0;34m)\u001b[0m\u001b[0;34m\u001b[0m\u001b[0;34m\u001b[0m\u001b[0m\n\u001b[0m\u001b[1;32m   1521\u001b[0m \u001b[0;34m\u001b[0m\u001b[0m\n\u001b[1;32m   1522\u001b[0m         \u001b[0;32mtry\u001b[0m\u001b[0;34m:\u001b[0m\u001b[0;34m\u001b[0m\u001b[0;34m\u001b[0m\u001b[0m\n",
            "\u001b[0;32m<ipython-input-45-a3bfdf962ce4>\u001b[0m in \u001b[0;36mforward\u001b[0;34m(self, x)\u001b[0m\n\u001b[1;32m     19\u001b[0m     \u001b[0;32mdef\u001b[0m \u001b[0mforward\u001b[0m\u001b[0;34m(\u001b[0m\u001b[0mself\u001b[0m\u001b[0;34m,\u001b[0m \u001b[0mx\u001b[0m\u001b[0;34m)\u001b[0m\u001b[0;34m:\u001b[0m\u001b[0;34m\u001b[0m\u001b[0;34m\u001b[0m\u001b[0m\n\u001b[1;32m     20\u001b[0m         \u001b[0mprint\u001b[0m\u001b[0;34m(\u001b[0m\u001b[0;34mf'Input shape: {x.shape}'\u001b[0m\u001b[0;34m)\u001b[0m\u001b[0;34m\u001b[0m\u001b[0;34m\u001b[0m\u001b[0m\n\u001b[0;32m---> 21\u001b[0;31m         \u001b[0mx\u001b[0m \u001b[0;34m=\u001b[0m \u001b[0mself\u001b[0m\u001b[0;34m.\u001b[0m\u001b[0mpool1\u001b[0m\u001b[0;34m(\u001b[0m\u001b[0mself\u001b[0m\u001b[0;34m.\u001b[0m\u001b[0mbn1\u001b[0m\u001b[0;34m(\u001b[0m\u001b[0mtorch\u001b[0m\u001b[0;34m.\u001b[0m\u001b[0mrelu\u001b[0m\u001b[0;34m(\u001b[0m\u001b[0mself\u001b[0m\u001b[0;34m.\u001b[0m\u001b[0mconv1\u001b[0m\u001b[0;34m(\u001b[0m\u001b[0mx\u001b[0m\u001b[0;34m)\u001b[0m\u001b[0;34m)\u001b[0m\u001b[0;34m)\u001b[0m\u001b[0;34m)\u001b[0m\u001b[0;34m\u001b[0m\u001b[0;34m\u001b[0m\u001b[0m\n\u001b[0m\u001b[1;32m     22\u001b[0m         \u001b[0mprint\u001b[0m\u001b[0;34m(\u001b[0m\u001b[0;34mf'After conv1: {x.shape}'\u001b[0m\u001b[0;34m)\u001b[0m\u001b[0;34m\u001b[0m\u001b[0;34m\u001b[0m\u001b[0m\n\u001b[1;32m     23\u001b[0m         \u001b[0mx\u001b[0m \u001b[0;34m=\u001b[0m \u001b[0mself\u001b[0m\u001b[0;34m.\u001b[0m\u001b[0mpool2\u001b[0m\u001b[0;34m(\u001b[0m\u001b[0mself\u001b[0m\u001b[0;34m.\u001b[0m\u001b[0mbn2\u001b[0m\u001b[0;34m(\u001b[0m\u001b[0mtorch\u001b[0m\u001b[0;34m.\u001b[0m\u001b[0mrelu\u001b[0m\u001b[0;34m(\u001b[0m\u001b[0mself\u001b[0m\u001b[0;34m.\u001b[0m\u001b[0mconv2\u001b[0m\u001b[0;34m(\u001b[0m\u001b[0mx\u001b[0m\u001b[0;34m)\u001b[0m\u001b[0;34m)\u001b[0m\u001b[0;34m)\u001b[0m\u001b[0;34m)\u001b[0m\u001b[0;34m\u001b[0m\u001b[0;34m\u001b[0m\u001b[0m\n",
            "\u001b[0;32m/usr/local/lib/python3.10/dist-packages/torch/nn/modules/module.py\u001b[0m in \u001b[0;36m_wrapped_call_impl\u001b[0;34m(self, *args, **kwargs)\u001b[0m\n\u001b[1;32m   1509\u001b[0m             \u001b[0;32mreturn\u001b[0m \u001b[0mself\u001b[0m\u001b[0;34m.\u001b[0m\u001b[0m_compiled_call_impl\u001b[0m\u001b[0;34m(\u001b[0m\u001b[0;34m*\u001b[0m\u001b[0margs\u001b[0m\u001b[0;34m,\u001b[0m \u001b[0;34m**\u001b[0m\u001b[0mkwargs\u001b[0m\u001b[0;34m)\u001b[0m  \u001b[0;31m# type: ignore[misc]\u001b[0m\u001b[0;34m\u001b[0m\u001b[0;34m\u001b[0m\u001b[0m\n\u001b[1;32m   1510\u001b[0m         \u001b[0;32melse\u001b[0m\u001b[0;34m:\u001b[0m\u001b[0;34m\u001b[0m\u001b[0;34m\u001b[0m\u001b[0m\n\u001b[0;32m-> 1511\u001b[0;31m             \u001b[0;32mreturn\u001b[0m \u001b[0mself\u001b[0m\u001b[0;34m.\u001b[0m\u001b[0m_call_impl\u001b[0m\u001b[0;34m(\u001b[0m\u001b[0;34m*\u001b[0m\u001b[0margs\u001b[0m\u001b[0;34m,\u001b[0m \u001b[0;34m**\u001b[0m\u001b[0mkwargs\u001b[0m\u001b[0;34m)\u001b[0m\u001b[0;34m\u001b[0m\u001b[0;34m\u001b[0m\u001b[0m\n\u001b[0m\u001b[1;32m   1512\u001b[0m \u001b[0;34m\u001b[0m\u001b[0m\n\u001b[1;32m   1513\u001b[0m     \u001b[0;32mdef\u001b[0m \u001b[0m_call_impl\u001b[0m\u001b[0;34m(\u001b[0m\u001b[0mself\u001b[0m\u001b[0;34m,\u001b[0m \u001b[0;34m*\u001b[0m\u001b[0margs\u001b[0m\u001b[0;34m,\u001b[0m \u001b[0;34m**\u001b[0m\u001b[0mkwargs\u001b[0m\u001b[0;34m)\u001b[0m\u001b[0;34m:\u001b[0m\u001b[0;34m\u001b[0m\u001b[0;34m\u001b[0m\u001b[0m\n",
            "\u001b[0;32m/usr/local/lib/python3.10/dist-packages/torch/nn/modules/module.py\u001b[0m in \u001b[0;36m_call_impl\u001b[0;34m(self, *args, **kwargs)\u001b[0m\n\u001b[1;32m   1518\u001b[0m                 \u001b[0;32mor\u001b[0m \u001b[0m_global_backward_pre_hooks\u001b[0m \u001b[0;32mor\u001b[0m \u001b[0m_global_backward_hooks\u001b[0m\u001b[0;34m\u001b[0m\u001b[0;34m\u001b[0m\u001b[0m\n\u001b[1;32m   1519\u001b[0m                 or _global_forward_hooks or _global_forward_pre_hooks):\n\u001b[0;32m-> 1520\u001b[0;31m             \u001b[0;32mreturn\u001b[0m \u001b[0mforward_call\u001b[0m\u001b[0;34m(\u001b[0m\u001b[0;34m*\u001b[0m\u001b[0margs\u001b[0m\u001b[0;34m,\u001b[0m \u001b[0;34m**\u001b[0m\u001b[0mkwargs\u001b[0m\u001b[0;34m)\u001b[0m\u001b[0;34m\u001b[0m\u001b[0;34m\u001b[0m\u001b[0m\n\u001b[0m\u001b[1;32m   1521\u001b[0m \u001b[0;34m\u001b[0m\u001b[0m\n\u001b[1;32m   1522\u001b[0m         \u001b[0;32mtry\u001b[0m\u001b[0;34m:\u001b[0m\u001b[0;34m\u001b[0m\u001b[0;34m\u001b[0m\u001b[0m\n",
            "\u001b[0;32m/usr/local/lib/python3.10/dist-packages/torch/nn/modules/conv.py\u001b[0m in \u001b[0;36mforward\u001b[0;34m(self, input)\u001b[0m\n\u001b[1;32m    458\u001b[0m \u001b[0;34m\u001b[0m\u001b[0m\n\u001b[1;32m    459\u001b[0m     \u001b[0;32mdef\u001b[0m \u001b[0mforward\u001b[0m\u001b[0;34m(\u001b[0m\u001b[0mself\u001b[0m\u001b[0;34m,\u001b[0m \u001b[0minput\u001b[0m\u001b[0;34m:\u001b[0m \u001b[0mTensor\u001b[0m\u001b[0;34m)\u001b[0m \u001b[0;34m->\u001b[0m \u001b[0mTensor\u001b[0m\u001b[0;34m:\u001b[0m\u001b[0;34m\u001b[0m\u001b[0;34m\u001b[0m\u001b[0m\n\u001b[0;32m--> 460\u001b[0;31m         \u001b[0;32mreturn\u001b[0m \u001b[0mself\u001b[0m\u001b[0;34m.\u001b[0m\u001b[0m_conv_forward\u001b[0m\u001b[0;34m(\u001b[0m\u001b[0minput\u001b[0m\u001b[0;34m,\u001b[0m \u001b[0mself\u001b[0m\u001b[0;34m.\u001b[0m\u001b[0mweight\u001b[0m\u001b[0;34m,\u001b[0m \u001b[0mself\u001b[0m\u001b[0;34m.\u001b[0m\u001b[0mbias\u001b[0m\u001b[0;34m)\u001b[0m\u001b[0;34m\u001b[0m\u001b[0;34m\u001b[0m\u001b[0m\n\u001b[0m\u001b[1;32m    461\u001b[0m \u001b[0;34m\u001b[0m\u001b[0m\n\u001b[1;32m    462\u001b[0m \u001b[0;32mclass\u001b[0m \u001b[0mConv3d\u001b[0m\u001b[0;34m(\u001b[0m\u001b[0m_ConvNd\u001b[0m\u001b[0;34m)\u001b[0m\u001b[0;34m:\u001b[0m\u001b[0;34m\u001b[0m\u001b[0;34m\u001b[0m\u001b[0m\n",
            "\u001b[0;32m/usr/local/lib/python3.10/dist-packages/torch/nn/modules/conv.py\u001b[0m in \u001b[0;36m_conv_forward\u001b[0;34m(self, input, weight, bias)\u001b[0m\n\u001b[1;32m    454\u001b[0m                             \u001b[0mweight\u001b[0m\u001b[0;34m,\u001b[0m \u001b[0mbias\u001b[0m\u001b[0;34m,\u001b[0m \u001b[0mself\u001b[0m\u001b[0;34m.\u001b[0m\u001b[0mstride\u001b[0m\u001b[0;34m,\u001b[0m\u001b[0;34m\u001b[0m\u001b[0;34m\u001b[0m\u001b[0m\n\u001b[1;32m    455\u001b[0m                             _pair(0), self.dilation, self.groups)\n\u001b[0;32m--> 456\u001b[0;31m         return F.conv2d(input, weight, bias, self.stride,\n\u001b[0m\u001b[1;32m    457\u001b[0m                         self.padding, self.dilation, self.groups)\n\u001b[1;32m    458\u001b[0m \u001b[0;34m\u001b[0m\u001b[0m\n",
            "\u001b[0;31mRuntimeError\u001b[0m: Given groups=1, weight of size [32, 1, 3, 3], expected input[32, 1025, 130, 1] to have 1 channels, but got 1025 channels instead"
          ]
        }
      ]
    },
    {
      "cell_type": "markdown",
      "source": [
        "\n",
        "\n",
        "---\n",
        "\n"
      ],
      "metadata": {
        "id": "7AbHdVNOdDLY"
      }
    },
    {
      "cell_type": "markdown",
      "source": [
        "***입력 텐서가 컨볼루션 레이어에 전달될 때 형상이 올바르지 않아서 발생한 오류***\n",
        "\n",
        "입력 데이터의 형상 확인: 입력 텐서의 형상이 [batch_size, 1, height, width]인지 확인합니다.\n",
        "\n",
        "데이터 변환 확인: 데이터셋에 적용되는 변환이 입력 데이터의 차원을 올바르게 처리하는지 확인합니다."
      ],
      "metadata": {
        "id": "jUw21pLsdROJ"
      }
    },
    {
      "cell_type": "code",
      "source": [
        "import torch\n",
        "import torch.nn as nn\n",
        "import torch.optim as optim\n",
        "import torchvision.transforms as transforms\n",
        "from torch.utils.data import DataLoader, TensorDataset, random_split\n",
        "import pandas as pd\n",
        "import numpy as np\n",
        "from sklearn.model_selection import train_test_split\n",
        "\n",
        "# Google Drive 마운트 및 데이터 로드\n",
        "from google.colab import drive\n",
        "drive.mount('/content/drive', force_remount=True)\n",
        "file_path = \"/content/drive/My Drive/soundAI/df_concat.csv\"\n",
        "df = pd.read_csv(file_path)\n",
        "\n",
        "# 데이터 추출 및 리스트 변환\n",
        "feature = df['feature'].apply(eval).tolist()\n",
        "\n",
        "# 패딩을 통해 입력데이터의 크기를 동일하게 맞춤\n",
        "max_len = max(len(f) for f in feature)\n",
        "max_dim = max(len(f[0]) if len(f) > 0 else 0 for f in feature)\n",
        "\n",
        "padded_features = np.array([np.pad(f, ((0, max_len - len(f)), (0, max_dim - len(f[0]))), mode='constant', constant_values=-1) if len(f) > 0 else -1 * np.ones((max_len, max_dim)) for f in feature], dtype='float32')\n",
        "\n",
        "# 입력 데이터 및 레이블 변환\n",
        "X = np.array(padded_features)\n",
        "y = np.array(df['label'].tolist())\n",
        "\n",
        "# 입력 데이터 차원 확장\n",
        "if len(X.shape) == 3:\n",
        "    X = X[:, np.newaxis, :, :]  # 채널 차원을 추가하여 [batch_size, 1, height, width]로 변환\n",
        "\n",
        "# 레이블이 유효한 범위 내에 있는지 확인 및 범위 조정\n",
        "min_label = y.min()\n",
        "y = y - min_label\n",
        "num_classes = y.max() + 1\n",
        "assert y.min() >= 0 and y.max() < num_classes, \"레이블이 유효한 범위를 벗어났습니다\"\n",
        "\n",
        "# PyTorch 텐서로 변환\n",
        "X = torch.tensor(X, dtype=torch.float32)\n",
        "y = torch.tensor(y, dtype=torch.long)\n",
        "\n",
        "dataset = TensorDataset(X, y)\n",
        "train_size = int(0.8 * len(dataset))\n",
        "val_size = int(0.1 * len(dataset))\n",
        "test_size = len(dataset) - train_size - val_size\n",
        "\n",
        "train_dataset, val_dataset, test_dataset = random_split(dataset, [train_size, val_size, test_size])\n",
        "\n",
        "# 데이터 증강 기법 적용\n",
        "transform = transforms.Compose([\n",
        "    transforms.RandomHorizontalFlip(),\n",
        "    transforms.RandomRotation(10),\n",
        "    transforms.RandomAffine(0, translate=(0.1, 0.1))\n",
        "])\n",
        "\n",
        "class AugmentedDataset(torch.utils.data.Dataset):\n",
        "    def __init__(self, dataset, transform=None):\n",
        "        self.dataset = dataset\n",
        "        self.transform = transform\n",
        "\n",
        "    def __len__(self):\n",
        "        return len(self.dataset)\n",
        "\n",
        "    def __getitem__(self, idx):\n",
        "        X, y = self.dataset[idx]\n",
        "        if self.transform:\n",
        "            X = self.transform(X)\n",
        "        return X, y\n",
        "\n",
        "augmented_train_dataset = AugmentedDataset(train_dataset, transform=transform)\n",
        "\n",
        "train_loader = DataLoader(augmented_train_dataset, batch_size=32, shuffle=True)\n",
        "val_loader = DataLoader(val_dataset, batch_size=32, shuffle=False)\n",
        "test_loader = DataLoader(test_dataset, batch_size=32, shuffle=False)\n",
        "\n",
        "# 데이터 로더에서 배치 데이터 형식 확인\n",
        "X_batch, y_batch = next(iter(train_loader))\n",
        "print(f'X_batch shape: {X_batch.shape}, y_batch shape: {y_batch.shape}')\n",
        "\n",
        "# CNN 모델 정의\n",
        "class CNNclassification(nn.Module):\n",
        "    def __init__(self):\n",
        "        super(CNNclassification, self).__init__()\n",
        "        self.conv1 = nn.Conv2d(1, 32, kernel_size=3, padding=1)\n",
        "        self.bn1 = nn.BatchNorm2d(32)\n",
        "        self.pool1 = nn.MaxPool2d(kernel_size=2)\n",
        "        self.conv2 = nn.Conv2d(32, 64, kernel_size=3, padding=1)\n",
        "        self.bn2 = nn.BatchNorm2d(64)\n",
        "        self.pool2 = nn.MaxPool2d(kernel_size=2)\n",
        "        self.conv3 = nn.Conv2d(64, 128, kernel_size=3, padding=1)\n",
        "        self.bn3 = nn.BatchNorm2d(128)\n",
        "        self.pool3 = nn.MaxPool2d(kernel_size=2)\n",
        "        self.flatten = nn.Flatten()\n",
        "        self.fc1 = nn.Linear(128 * (max_len // 8) * (max_dim // 8), 128)\n",
        "        self.dropout = nn.Dropout(0.5)\n",
        "        self.fc2 = nn.Linear(128, num_classes)\n",
        "\n",
        "    def forward(self, x):\n",
        "        x = self.pool1(self.bn1(torch.relu(self.conv1(x))))\n",
        "        x = self.pool2(self.bn2(torch.relu(self.conv2(x))))\n",
        "        x = self.pool3(self.bn3(torch.relu(self.conv3(x))))\n",
        "        x = self.flatten(x)\n",
        "        x = torch.relu(self.fc1(x))\n",
        "        x = self.dropout(x)\n",
        "        x = self.fc2(x)\n",
        "        return x\n",
        "\n",
        "device = torch.device('cuda' if torch.cuda.is_available() else 'cpu')\n",
        "model = CNNclassification().to(device)\n",
        "\n",
        "criterion = nn.CrossEntropyLoss()\n",
        "optimizer = optim.SGD(model.parameters(), lr=1e-3)\n",
        "scheduler = optim.lr_scheduler.StepLR(optimizer, step_size=10, gamma=0.1)\n",
        "\n",
        "# 모델 학습 함수 정의\n",
        "def train_model(model, criterion, optimizer, scheduler, train_loader, val_loader, epochs=50):\n",
        "    best_val_loss = float('inf')\n",
        "    for epoch in range(epochs):\n",
        "        model.train()\n",
        "        train_loss = 0\n",
        "        for X_batch, y_batch in train_loader:\n",
        "            X_batch, y_batch = X_batch.to(device), y_batch.to(device)\n",
        "            optimizer.zero_grad()\n",
        "            output = model(X_batch)\n",
        "            loss = criterion(output, y_batch)\n",
        "            loss.backward()\n",
        "            optimizer.step()\n",
        "            train_loss += loss.item() * X_batch.size(0)\n",
        "\n",
        "        train_loss /= len(train_loader.dataset)\n",
        "\n",
        "        model.eval()\n",
        "        val_loss = 0\n",
        "        with torch.no_grad():\n",
        "            for X_batch, y_batch in val_loader:\n",
        "                X_batch, y_batch = X_batch.to(device), y_batch.to(device)\n",
        "                output = model(X_batch)\n",
        "                loss = criterion(output, y_batch)\n",
        "                val_loss += loss.item() * X_batch.size(0)\n",
        "\n",
        "        val_loss /= len(val_loader.dataset)\n",
        "\n",
        "        scheduler.step()\n",
        "\n",
        "        print(f'Epoch {epoch+1}/{epochs}, Train Loss: {train_loss:.4f}, Val Loss: {val_loss:.4f}')\n",
        "\n",
        "        if val_loss < best_val_loss:\n",
        "            best_val_loss = val_loss\n",
        "            torch.save(model.state_dict(), 'best_model.pth')\n",
        "\n",
        "# 모델 학습 및 검증\n",
        "train_model(model, criterion, optimizer, scheduler, train_loader, val_loader)\n"
      ],
      "metadata": {
        "colab": {
          "base_uri": "https://localhost:8080/"
        },
        "id": "vR5JBTPEeGgp",
        "outputId": "cdd1179e-13ab-4b7e-e472-aa51ee673e29"
      },
      "execution_count": null,
      "outputs": [
        {
          "output_type": "stream",
          "name": "stdout",
          "text": [
            "Mounted at /content/drive\n",
            "X_batch shape: torch.Size([32, 1, 1025, 130]), y_batch shape: torch.Size([32])\n",
            "Epoch 1/3, Train Loss: 7.3396, Val Loss: 7.0860\n",
            "Epoch 2/3, Train Loss: 7.1467, Val Loss: 7.0890\n",
            "Epoch 3/3, Train Loss: 6.9122, Val Loss: 7.0786\n"
          ]
        }
      ]
    },
    {
      "cell_type": "markdown",
      "source": [
        "*유닛테스트*"
      ],
      "metadata": {
        "id": "t9VkcVqJsaRU"
      }
    },
    {
      "cell_type": "code",
      "source": [
        "def test_cnn_model():\n",
        "    # 가상의 데이터를 생성하여 모델 테스트\n",
        "    test_input = torch.randn(1, 1, max_len, max_dim).to(device)  # 임의의 입력 데이터\n",
        "    test_output = model(test_input)\n",
        "\n",
        "    assert test_output.shape == (1, num_classes), f\"Output shape mismatch: {test_output.shape} != (1, {num_classes})\"\n",
        "    print(\"Unit test passed!\")\n",
        "\n",
        "test_cnn_model()\n"
      ],
      "metadata": {
        "colab": {
          "base_uri": "https://localhost:8080/"
        },
        "id": "quL3Ayn9scJM",
        "outputId": "41d95c15-30a9-4e8e-ad5c-d79603f122af"
      },
      "execution_count": null,
      "outputs": [
        {
          "output_type": "stream",
          "name": "stdout",
          "text": [
            "Unit test passed!\n"
          ]
        }
      ]
    },
    {
      "cell_type": "markdown",
      "source": [
        "*검증함수코드*"
      ],
      "metadata": {
        "id": "0iRP9Mo4sVhy"
      }
    },
    {
      "cell_type": "code",
      "source": [
        "def evaluate_model(model, test_loader):\n",
        "    model.eval()\n",
        "    test_loss = 0\n",
        "    correct = 0\n",
        "    total = 0\n",
        "    with torch.no_grad():\n",
        "        for X_batch, y_batch in test_loader:\n",
        "            X_batch, y_batch = X_batch.to(device), y_batch.to(device)\n",
        "            outputs = model(X_batch)\n",
        "            loss = criterion(outputs, y_batch)\n",
        "            test_loss += loss.item() * X_batch.size(0)\n",
        "            _, predicted = outputs.max(1)\n",
        "            total += y_batch.size(0)\n",
        "            correct += predicted.eq(y_batch).sum().item()\n",
        "\n",
        "    test_loss /= len(test_loader.dataset)\n",
        "    accuracy = 100. * correct / total\n",
        "    print(f'Test Loss: {test_loss:.4f}, Accuracy: {accuracy:.2f}%')\n",
        "\n",
        "# 모델 평가\n",
        "evaluate_model(model, test_loader)\n"
      ],
      "metadata": {
        "colab": {
          "base_uri": "https://localhost:8080/"
        },
        "id": "ACBu9mqasRch",
        "outputId": "e69f1e86-7fe5-4000-cd72-5e6eab46b9d0"
      },
      "execution_count": null,
      "outputs": [
        {
          "output_type": "stream",
          "name": "stdout",
          "text": [
            "Test Loss: 7.1872, Accuracy: 0.00%\n"
          ]
        }
      ]
    },
    {
      "cell_type": "markdown",
      "source": [
        "*하이퍼파라미터* *튜닝*  이거 에폭 개늘려서 시각화한거 봐보자"
      ],
      "metadata": {
        "id": "_oby0R8kskg0"
      }
    },
    {
      "cell_type": "markdown",
      "source": [
        "Grid Search 또는 Random Search를 사용하여 다양한 하이퍼파라미터 조합을 시도"
      ],
      "metadata": {
        "id": "ljTYQCMYsqEV"
      }
    },
    {
      "cell_type": "code",
      "source": [
        "import matplotlib.pyplot as plt\n",
        "\n",
        "def plot_training_history(train_losses, val_losses):\n",
        "    epochs = range(1, len(train_losses) + 1)\n",
        "    plt.figure(figsize=(10, 5))\n",
        "    plt.plot(epochs, train_losses, 'bo', label='Training loss')\n",
        "    plt.plot(epochs, val_losses, 'b', label='Validation loss')\n",
        "    plt.title('Training and validation loss')\n",
        "    plt.xlabel('Epochs')\n",
        "    plt.ylabel('Loss')\n",
        "    plt.legend()\n",
        "    plt.show()"
      ],
      "metadata": {
        "id": "PNGUgeL2sqkY"
      },
      "execution_count": null,
      "outputs": []
    },
    {
      "cell_type": "code",
      "source": [
        "# 모델 학습 함수 수정\n",
        "def train_model(model, criterion, optimizer, scheduler, train_loader, val_loader, epochs=30):\n",
        "    best_val_loss = float('inf')\n",
        "    train_losses = []\n",
        "    val_losses = []\n",
        "    for epoch in range(epochs):\n",
        "        model.train()\n",
        "        train_loss = 0\n",
        "        for X_batch, y_batch in train_loader:\n",
        "            X_batch, y_batch = X_batch.to(device), y_batch.to(device)\n",
        "            optimizer.zero_grad()\n",
        "            output = model(X_batch)\n",
        "            loss = criterion(output, y_batch)\n",
        "            loss.backward()\n",
        "            optimizer.step()\n",
        "            train_loss += loss.item() * X_batch.size(0)\n",
        "\n",
        "        train_loss /= len(train_loader.dataset)\n",
        "        train_losses.append(train_loss)\n",
        "\n",
        "        model.eval()\n",
        "        val_loss = 0\n",
        "        with torch.no_grad():\n",
        "            for X_batch, y_batch in val_loader:\n",
        "                X_batch, y_batch = X_batch.to(device), y_batch.to(device)\n",
        "                output = model(X_batch)\n",
        "                loss = criterion(output, y_batch)\n",
        "                val_loss += loss.item() * X_batch.size(0)\n",
        "\n",
        "        val_loss /= len(val_loader.dataset)\n",
        "        val_losses.append(val_loss)\n",
        "\n",
        "        scheduler.step()\n",
        "\n",
        "        print(f'Epoch {epoch+1}/{epochs}, Train Loss: {train_loss:.4f}, Val Loss: {val_loss:.4f}')\n",
        "\n",
        "        if val_loss < best_val_loss:\n",
        "            best_val_loss = val_loss\n",
        "            torch.save(model.state_dict(), 'best_model.pth')\n",
        "\n",
        "    plot_training_history(train_losses, val_losses)\n",
        "\n",
        "# 모델 학습 및 검증\n",
        "train_model(model, criterion, optimizer, scheduler, train_loader, val_loader)"
      ],
      "metadata": {
        "colab": {
          "base_uri": "https://localhost:8080/",
          "height": 1000
        },
        "id": "hI4urld1swit",
        "outputId": "2c68dc71-ce7d-48ce-d404-30493973c859"
      },
      "execution_count": null,
      "outputs": [
        {
          "output_type": "stream",
          "name": "stdout",
          "text": [
            "Epoch 1/30, Train Loss: 7.0005, Val Loss: 7.0819\n",
            "Epoch 2/30, Train Loss: 6.8191, Val Loss: 7.0709\n",
            "Epoch 3/30, Train Loss: 6.9469, Val Loss: 7.0670\n",
            "Epoch 4/30, Train Loss: 6.8534, Val Loss: 7.0903\n",
            "Epoch 5/30, Train Loss: 6.8688, Val Loss: 7.1095\n",
            "Epoch 6/30, Train Loss: 6.8612, Val Loss: 7.0726\n",
            "Epoch 7/30, Train Loss: 6.9160, Val Loss: 7.0407\n",
            "Epoch 8/30, Train Loss: 6.8468, Val Loss: 7.0237\n",
            "Epoch 9/30, Train Loss: 6.7992, Val Loss: 7.0093\n",
            "Epoch 10/30, Train Loss: 6.8410, Val Loss: 6.9961\n",
            "Epoch 11/30, Train Loss: 6.8027, Val Loss: 6.9861\n",
            "Epoch 12/30, Train Loss: 6.7105, Val Loss: 6.9865\n",
            "Epoch 13/30, Train Loss: 6.7030, Val Loss: 6.9765\n",
            "Epoch 14/30, Train Loss: 6.8015, Val Loss: 6.9816\n",
            "Epoch 15/30, Train Loss: 6.6519, Val Loss: 6.9727\n",
            "Epoch 16/30, Train Loss: 6.8609, Val Loss: 6.9738\n",
            "Epoch 17/30, Train Loss: 6.7450, Val Loss: 6.9595\n",
            "Epoch 18/30, Train Loss: 6.7953, Val Loss: 6.9556\n",
            "Epoch 19/30, Train Loss: 6.6620, Val Loss: 6.9539\n",
            "Epoch 20/30, Train Loss: 6.7423, Val Loss: 6.9544\n",
            "Epoch 21/30, Train Loss: 6.7417, Val Loss: 6.9556\n",
            "Epoch 22/30, Train Loss: 6.7089, Val Loss: 6.9538\n",
            "Epoch 23/30, Train Loss: 6.8209, Val Loss: 6.9546\n",
            "Epoch 24/30, Train Loss: 6.5740, Val Loss: 6.9535\n",
            "Epoch 25/30, Train Loss: 6.6377, Val Loss: 6.9531\n",
            "Epoch 26/30, Train Loss: 6.7385, Val Loss: 6.9536\n",
            "Epoch 27/30, Train Loss: 6.6148, Val Loss: 6.9522\n",
            "Epoch 28/30, Train Loss: 6.7158, Val Loss: 6.9519\n",
            "Epoch 29/30, Train Loss: 6.6550, Val Loss: 6.9522\n",
            "Epoch 30/30, Train Loss: 6.6690, Val Loss: 6.9525\n"
          ]
        },
        {
          "output_type": "display_data",
          "data": {
            "text/plain": [
              "<Figure size 1000x500 with 1 Axes>"
            ],
            "image/png": "[encoded data removed]"
          },
          "metadata": {}
        }
      ]
    },
    {
      "cell_type": "markdown",
      "source": [
        "*데이터 증강, 하이퍼파라미터 튜닝, 모델 아키텍처 개선*"
      ],
      "metadata": {
        "id": "CfYE_dRr5x6X"
      }
    },
    {
      "cell_type": "markdown",
      "source": [
        "*데이터 증강*"
      ],
      "metadata": {
        "id": "eMcYR5wY6hom"
      }
    },
    {
      "cell_type": "code",
      "source": [
        "transform = transforms.Compose([\n",
        "    transforms.RandomHorizontalFlip(),\n",
        "    transforms.RandomRotation(10),\n",
        "    transforms.RandomAffine(0, translate=(0.1, 0.1)),\n",
        "    transforms.RandomResizedCrop((max_len, max_dim), scale=(0.8, 1.0))\n",
        "])\n"
      ],
      "metadata": {
        "id": "jmmxXzZo6la8"
      },
      "execution_count": null,
      "outputs": []
    },
    {
      "cell_type": "markdown",
      "source": [
        "*하이퍼파라미터* *튜닝*"
      ],
      "metadata": {
        "id": "s7mC6Esw6nE9"
      }
    },
    {
      "cell_type": "code",
      "source": [
        "optimizer = optim.Adam(model.parameters(), lr=1e-3)  # SGD 대신 Adam 사용\n"
      ],
      "metadata": {
        "id": "A3cwQoTb6p1m"
      },
      "execution_count": null,
      "outputs": []
    },
    {
      "cell_type": "markdown",
      "source": [
        "*모델아키텍처* *개선*"
      ],
      "metadata": {
        "id": "bToeat8z6ts9"
      }
    },
    {
      "cell_type": "code",
      "source": [
        "class CNNclassification(nn.Module):\n",
        "    def __init__(self):\n",
        "        super(CNNclassification, self).__init__()\n",
        "        self.conv1 = nn.Conv2d(1, 32, kernel_size=3, padding=1)\n",
        "        self.bn1 = nn.BatchNorm2d(32)\n",
        "        self.pool1 = nn.MaxPool2d(kernel_size=2)\n",
        "        self.conv2 = nn.Conv2d(32, 64, kernel_size=3, padding=1)\n",
        "        self.bn2 = nn.BatchNorm2d(64)\n",
        "        self.pool2 = nn.MaxPool2d(kernel_size=2)\n",
        "        self.conv3 = nn.Conv2d(64, 128, kernel_size=3, padding=1)\n",
        "        self.bn3 = nn.BatchNorm2d(128)\n",
        "        self.pool3 = nn.MaxPool2d(kernel_size=2)\n",
        "        self.conv4 = nn.Conv2d(128, 256, kernel_size=3, padding=1)\n",
        "        self.bn4 = nn.BatchNorm2d(256)\n",
        "        self.pool4 = nn.MaxPool2d(kernel_size=2)\n",
        "        self.flatten = nn.Flatten()\n",
        "        self.fc1 = nn.Linear(256 * (max_len // 16) * (max_dim // 16), 256)\n",
        "        self.dropout = nn.Dropout(0.5)\n",
        "        self.fc2 = nn.Linear(256, num_classes)\n",
        "\n",
        "    def forward(self, x):\n",
        "        x = self.pool1(self.bn1(torch.relu(self.conv1(x))))\n",
        "        x = self.pool2(self.bn2(torch.relu(self.conv2(x))))\n",
        "        x = self.pool3(self.bn3(torch.relu(self.conv3(x))))\n",
        "        x = self.pool4(self.bn4(torch.relu(self.conv4(x))))\n",
        "        x = self.flatten(x)\n",
        "        x = torch.relu(self.fc1(x))\n",
        "        x = self.dropout(x)\n",
        "        x = self.fc2(x)\n",
        "        return x\n"
      ],
      "metadata": {
        "id": "BYcgkune6voJ"
      },
      "execution_count": null,
      "outputs": []
    },
    {
      "cell_type": "markdown",
      "source": [
        "*조기종료 및 학습률 감소*"
      ],
      "metadata": {
        "id": "-1K-jY7f6zZA"
      }
    },
    {
      "cell_type": "code",
      "source": [
        "import matplotlib.pyplot as plt\n",
        "\n",
        "def plot_training_history(train_losses, val_losses, train_accuracies, val_accuracies):\n",
        "    epochs = range(1, len(train_losses) + 1)\n",
        "\n",
        "    plt.figure(figsize=(12, 5))\n",
        "\n",
        "    # Loss 시각화\n",
        "    plt.subplot(1, 2, 1)\n",
        "    plt.plot(epochs, train_losses, 'bo', label='Training loss')\n",
        "    plt.plot(epochs, val_losses, 'b', label='Validation loss')\n",
        "    plt.title('Training and validation loss')\n",
        "    plt.xlabel('Epochs')\n",
        "    plt.ylabel('Loss')\n",
        "    plt.legend()\n",
        "\n",
        "    # Accuracy 시각화\n",
        "    plt.subplot(1, 2, 2)\n",
        "    plt.plot(epochs, train_accuracies, 'bo', label='Training accuracy')\n",
        "    plt.plot(epochs, val_accuracies, 'b', label='Validation accuracy')\n",
        "    plt.title('Training and validation accuracy')\n",
        "    plt.xlabel('Epochs')\n",
        "    plt.ylabel('Accuracy')\n",
        "    plt.legend()\n",
        "\n",
        "    plt.show()\n",
        "\n",
        "def train_model(model, criterion, optimizer, scheduler, train_loader, val_loader, epochs=50):\n",
        "    best_val_loss = float('inf')\n",
        "    train_losses = []\n",
        "    val_losses = []\n",
        "    train_accuracies = []\n",
        "    val_accuracies = []\n",
        "\n",
        "    for epoch in range(epochs):\n",
        "        model.train()\n",
        "        train_loss = 0\n",
        "        correct_train = 0\n",
        "        total_train = 0\n",
        "\n",
        "        for X_batch, y_batch in train_loader:\n",
        "            X_batch, y_batch = X_batch.to(device), y_batch.to(device)\n",
        "            optimizer.zero_grad()\n",
        "            output = model(X_batch)\n",
        "            loss = criterion(output, y_batch)\n",
        "            loss.backward()\n",
        "            optimizer.step()\n",
        "            train_loss += loss.item() * X_batch.size(0)\n",
        "\n",
        "            _, predicted = output.max(1)\n",
        "            total_train += y_batch.size(0)\n",
        "            correct_train += predicted.eq(y_batch).sum().item()\n",
        "\n",
        "        train_loss /= len(train_loader.dataset)\n",
        "        train_losses.append(train_loss)\n",
        "        train_accuracy = 100. * correct_train / total_train\n",
        "        train_accuracies.append(train_accuracy)\n",
        "\n",
        "        model.eval()\n",
        "        val_loss = 0\n",
        "        correct_val = 0\n",
        "        total_val = 0\n",
        "\n",
        "        with torch.no_grad():\n",
        "            for X_batch, y_batch in val_loader:\n",
        "                X_batch, y_batch = X_batch.to(device), y_batch.to(device)\n",
        "                output = model(X_batch)\n",
        "                loss = criterion(output, y_batch)\n",
        "                val_loss += loss.item() * X_batch.size(0)\n",
        "\n",
        "                _, predicted = output.max(1)\n",
        "                total_val += y_batch.size(0)\n",
        "                correct_val += predicted.eq(y_batch).sum().item()\n",
        "\n",
        "        val_loss /= len(val_loader.dataset)\n",
        "        val_losses.append(val_loss)\n",
        "        val_accuracy = 100. * correct_val / total_val\n",
        "        val_accuracies.append(val_accuracy)\n",
        "\n",
        "        scheduler.step(val_loss)\n",
        "\n",
        "        print(f'Epoch {epoch+1}/{epochs}, Train Loss: {train_loss:.4f}, Val Loss: {val_loss:.4f}, Train Acc: {train_accuracy:.2f}%, Val Acc: {val_accuracy:.2f}%')\n",
        "\n",
        "        if val_loss < best_val_loss:\n",
        "            best_val_loss = val_loss\n",
        "            torch.save(model.state_dict(), 'best_model.pth')\n",
        "\n",
        "    plot_training_history(train_losses, val_losses, train_accuracies, val_accuracies)\n",
        "\n",
        "# 모델 학습 및 검증\n",
        "train_model(model, criterion, optimizer, scheduler, train_loader, val_loader)\n"
      ],
      "metadata": {
        "colab": {
          "base_uri": "https://localhost:8080/",
          "height": 339
        },
        "id": "V4uMaEDl617f",
        "outputId": "98fdf213-a430-4302-c90e-bc042feb0b6a"
      },
      "execution_count": null,
      "outputs": [
        {
          "output_type": "error",
          "ename": "KeyboardInterrupt",
          "evalue": "",
          "traceback": [
            "\u001b[0;31m---------------------------------------------------------------------------\u001b[0m",
            "\u001b[0;31mKeyboardInterrupt\u001b[0m                         Traceback (most recent call last)",
            "\u001b[0;32m<ipython-input-15-09a4286ffb74>\u001b[0m in \u001b[0;36m<cell line: 91>\u001b[0;34m()\u001b[0m\n\u001b[1;32m     89\u001b[0m \u001b[0;34m\u001b[0m\u001b[0m\n\u001b[1;32m     90\u001b[0m \u001b[0;31m# 모델 학습 및 검증\u001b[0m\u001b[0;34m\u001b[0m\u001b[0;34m\u001b[0m\u001b[0m\n\u001b[0;32m---> 91\u001b[0;31m \u001b[0mtrain_model\u001b[0m\u001b[0;34m(\u001b[0m\u001b[0mmodel\u001b[0m\u001b[0;34m,\u001b[0m \u001b[0mcriterion\u001b[0m\u001b[0;34m,\u001b[0m \u001b[0moptimizer\u001b[0m\u001b[0;34m,\u001b[0m \u001b[0mscheduler\u001b[0m\u001b[0;34m,\u001b[0m \u001b[0mtrain_loader\u001b[0m\u001b[0;34m,\u001b[0m \u001b[0mval_loader\u001b[0m\u001b[0;34m)\u001b[0m\u001b[0;34m\u001b[0m\u001b[0;34m\u001b[0m\u001b[0m\n\u001b[0m",
            "\u001b[0;32m<ipython-input-15-09a4286ffb74>\u001b[0m in \u001b[0;36mtrain_model\u001b[0;34m(model, criterion, optimizer, scheduler, train_loader, val_loader, epochs)\u001b[0m\n\u001b[1;32m     42\u001b[0m             \u001b[0mX_batch\u001b[0m\u001b[0;34m,\u001b[0m \u001b[0my_batch\u001b[0m \u001b[0;34m=\u001b[0m \u001b[0mX_batch\u001b[0m\u001b[0;34m.\u001b[0m\u001b[0mto\u001b[0m\u001b[0;34m(\u001b[0m\u001b[0mdevice\u001b[0m\u001b[0;34m)\u001b[0m\u001b[0;34m,\u001b[0m \u001b[0my_batch\u001b[0m\u001b[0;34m.\u001b[0m\u001b[0mto\u001b[0m\u001b[0;34m(\u001b[0m\u001b[0mdevice\u001b[0m\u001b[0;34m)\u001b[0m\u001b[0;34m\u001b[0m\u001b[0;34m\u001b[0m\u001b[0m\n\u001b[1;32m     43\u001b[0m             \u001b[0moptimizer\u001b[0m\u001b[0;34m.\u001b[0m\u001b[0mzero_grad\u001b[0m\u001b[0;34m(\u001b[0m\u001b[0;34m)\u001b[0m\u001b[0;34m\u001b[0m\u001b[0;34m\u001b[0m\u001b[0m\n\u001b[0;32m---> 44\u001b[0;31m             \u001b[0moutput\u001b[0m \u001b[0;34m=\u001b[0m \u001b[0mmodel\u001b[0m\u001b[0;34m(\u001b[0m\u001b[0mX_batch\u001b[0m\u001b[0;34m)\u001b[0m\u001b[0;34m\u001b[0m\u001b[0;34m\u001b[0m\u001b[0m\n\u001b[0m\u001b[1;32m     45\u001b[0m             \u001b[0mloss\u001b[0m \u001b[0;34m=\u001b[0m \u001b[0mcriterion\u001b[0m\u001b[0;34m(\u001b[0m\u001b[0moutput\u001b[0m\u001b[0;34m,\u001b[0m \u001b[0my_batch\u001b[0m\u001b[0;34m)\u001b[0m\u001b[0;34m\u001b[0m\u001b[0;34m\u001b[0m\u001b[0m\n\u001b[1;32m     46\u001b[0m             \u001b[0mloss\u001b[0m\u001b[0;34m.\u001b[0m\u001b[0mbackward\u001b[0m\u001b[0;34m(\u001b[0m\u001b[0;34m)\u001b[0m\u001b[0;34m\u001b[0m\u001b[0;34m\u001b[0m\u001b[0m\n",
            "\u001b[0;32m/usr/local/lib/python3.10/dist-packages/torch/nn/modules/module.py\u001b[0m in \u001b[0;36m_wrapped_call_impl\u001b[0;34m(self, *args, **kwargs)\u001b[0m\n\u001b[1;32m   1509\u001b[0m             \u001b[0;32mreturn\u001b[0m \u001b[0mself\u001b[0m\u001b[0;34m.\u001b[0m\u001b[0m_compiled_call_impl\u001b[0m\u001b[0;34m(\u001b[0m\u001b[0;34m*\u001b[0m\u001b[0margs\u001b[0m\u001b[0;34m,\u001b[0m \u001b[0;34m**\u001b[0m\u001b[0mkwargs\u001b[0m\u001b[0;34m)\u001b[0m  \u001b[0;31m# type: ignore[misc]\u001b[0m\u001b[0;34m\u001b[0m\u001b[0;34m\u001b[0m\u001b[0m\n\u001b[1;32m   1510\u001b[0m         \u001b[0;32melse\u001b[0m\u001b[0;34m:\u001b[0m\u001b[0;34m\u001b[0m\u001b[0;34m\u001b[0m\u001b[0m\n\u001b[0;32m-> 1511\u001b[0;31m             \u001b[0;32mreturn\u001b[0m \u001b[0mself\u001b[0m\u001b[0;34m.\u001b[0m\u001b[0m_call_impl\u001b[0m\u001b[0;34m(\u001b[0m\u001b[0;34m*\u001b[0m\u001b[0margs\u001b[0m\u001b[0;34m,\u001b[0m \u001b[0;34m**\u001b[0m\u001b[0mkwargs\u001b[0m\u001b[0;34m)\u001b[0m\u001b[0;34m\u001b[0m\u001b[0;34m\u001b[0m\u001b[0m\n\u001b[0m\u001b[1;32m   1512\u001b[0m \u001b[0;34m\u001b[0m\u001b[0m\n\u001b[1;32m   1513\u001b[0m     \u001b[0;32mdef\u001b[0m \u001b[0m_call_impl\u001b[0m\u001b[0;34m(\u001b[0m\u001b[0mself\u001b[0m\u001b[0;34m,\u001b[0m \u001b[0;34m*\u001b[0m\u001b[0margs\u001b[0m\u001b[0;34m,\u001b[0m \u001b[0;34m**\u001b[0m\u001b[0mkwargs\u001b[0m\u001b[0;34m)\u001b[0m\u001b[0;34m:\u001b[0m\u001b[0;34m\u001b[0m\u001b[0;34m\u001b[0m\u001b[0m\n",
            "\u001b[0;32m/usr/local/lib/python3.10/dist-packages/torch/nn/modules/module.py\u001b[0m in \u001b[0;36m_call_impl\u001b[0;34m(self, *args, **kwargs)\u001b[0m\n\u001b[1;32m   1518\u001b[0m                 \u001b[0;32mor\u001b[0m \u001b[0m_global_backward_pre_hooks\u001b[0m \u001b[0;32mor\u001b[0m \u001b[0m_global_backward_hooks\u001b[0m\u001b[0;34m\u001b[0m\u001b[0;34m\u001b[0m\u001b[0m\n\u001b[1;32m   1519\u001b[0m                 or _global_forward_hooks or _global_forward_pre_hooks):\n\u001b[0;32m-> 1520\u001b[0;31m             \u001b[0;32mreturn\u001b[0m \u001b[0mforward_call\u001b[0m\u001b[0;34m(\u001b[0m\u001b[0;34m*\u001b[0m\u001b[0margs\u001b[0m\u001b[0;34m,\u001b[0m \u001b[0;34m**\u001b[0m\u001b[0mkwargs\u001b[0m\u001b[0;34m)\u001b[0m\u001b[0;34m\u001b[0m\u001b[0;34m\u001b[0m\u001b[0m\n\u001b[0m\u001b[1;32m   1521\u001b[0m \u001b[0;34m\u001b[0m\u001b[0m\n\u001b[1;32m   1522\u001b[0m         \u001b[0;32mtry\u001b[0m\u001b[0;34m:\u001b[0m\u001b[0;34m\u001b[0m\u001b[0;34m\u001b[0m\u001b[0m\n",
            "\u001b[0;32m<ipython-input-1-2722d19f9d05>\u001b[0m in \u001b[0;36mforward\u001b[0;34m(self, x)\u001b[0m\n\u001b[1;32m     98\u001b[0m \u001b[0;34m\u001b[0m\u001b[0m\n\u001b[1;32m     99\u001b[0m     \u001b[0;32mdef\u001b[0m \u001b[0mforward\u001b[0m\u001b[0;34m(\u001b[0m\u001b[0mself\u001b[0m\u001b[0;34m,\u001b[0m \u001b[0mx\u001b[0m\u001b[0;34m)\u001b[0m\u001b[0;34m:\u001b[0m\u001b[0;34m\u001b[0m\u001b[0;34m\u001b[0m\u001b[0m\n\u001b[0;32m--> 100\u001b[0;31m         \u001b[0mx\u001b[0m \u001b[0;34m=\u001b[0m \u001b[0mself\u001b[0m\u001b[0;34m.\u001b[0m\u001b[0mpool1\u001b[0m\u001b[0;34m(\u001b[0m\u001b[0mself\u001b[0m\u001b[0;34m.\u001b[0m\u001b[0mbn1\u001b[0m\u001b[0;34m(\u001b[0m\u001b[0mtorch\u001b[0m\u001b[0;34m.\u001b[0m\u001b[0mrelu\u001b[0m\u001b[0;34m(\u001b[0m\u001b[0mself\u001b[0m\u001b[0;34m.\u001b[0m\u001b[0mconv1\u001b[0m\u001b[0;34m(\u001b[0m\u001b[0mx\u001b[0m\u001b[0;34m)\u001b[0m\u001b[0;34m)\u001b[0m\u001b[0;34m)\u001b[0m\u001b[0;34m)\u001b[0m\u001b[0;34m\u001b[0m\u001b[0;34m\u001b[0m\u001b[0m\n\u001b[0m\u001b[1;32m    101\u001b[0m         \u001b[0mx\u001b[0m \u001b[0;34m=\u001b[0m \u001b[0mself\u001b[0m\u001b[0;34m.\u001b[0m\u001b[0mpool2\u001b[0m\u001b[0;34m(\u001b[0m\u001b[0mself\u001b[0m\u001b[0;34m.\u001b[0m\u001b[0mbn2\u001b[0m\u001b[0;34m(\u001b[0m\u001b[0mtorch\u001b[0m\u001b[0;34m.\u001b[0m\u001b[0mrelu\u001b[0m\u001b[0;34m(\u001b[0m\u001b[0mself\u001b[0m\u001b[0;34m.\u001b[0m\u001b[0mconv2\u001b[0m\u001b[0;34m(\u001b[0m\u001b[0mx\u001b[0m\u001b[0;34m)\u001b[0m\u001b[0;34m)\u001b[0m\u001b[0;34m)\u001b[0m\u001b[0;34m)\u001b[0m\u001b[0;34m\u001b[0m\u001b[0;34m\u001b[0m\u001b[0m\n\u001b[1;32m    102\u001b[0m         \u001b[0mx\u001b[0m \u001b[0;34m=\u001b[0m \u001b[0mself\u001b[0m\u001b[0;34m.\u001b[0m\u001b[0mpool3\u001b[0m\u001b[0;34m(\u001b[0m\u001b[0mself\u001b[0m\u001b[0;34m.\u001b[0m\u001b[0mbn3\u001b[0m\u001b[0;34m(\u001b[0m\u001b[0mtorch\u001b[0m\u001b[0;34m.\u001b[0m\u001b[0mrelu\u001b[0m\u001b[0;34m(\u001b[0m\u001b[0mself\u001b[0m\u001b[0;34m.\u001b[0m\u001b[0mconv3\u001b[0m\u001b[0;34m(\u001b[0m\u001b[0mx\u001b[0m\u001b[0;34m)\u001b[0m\u001b[0;34m)\u001b[0m\u001b[0;34m)\u001b[0m\u001b[0;34m)\u001b[0m\u001b[0;34m\u001b[0m\u001b[0;34m\u001b[0m\u001b[0m\n",
            "\u001b[0;32m/usr/local/lib/python3.10/dist-packages/torch/nn/modules/module.py\u001b[0m in \u001b[0;36m_wrapped_call_impl\u001b[0;34m(self, *args, **kwargs)\u001b[0m\n\u001b[1;32m   1509\u001b[0m             \u001b[0;32mreturn\u001b[0m \u001b[0mself\u001b[0m\u001b[0;34m.\u001b[0m\u001b[0m_compiled_call_impl\u001b[0m\u001b[0;34m(\u001b[0m\u001b[0;34m*\u001b[0m\u001b[0margs\u001b[0m\u001b[0;34m,\u001b[0m \u001b[0;34m**\u001b[0m\u001b[0mkwargs\u001b[0m\u001b[0;34m)\u001b[0m  \u001b[0;31m# type: ignore[misc]\u001b[0m\u001b[0;34m\u001b[0m\u001b[0;34m\u001b[0m\u001b[0m\n\u001b[1;32m   1510\u001b[0m         \u001b[0;32melse\u001b[0m\u001b[0;34m:\u001b[0m\u001b[0;34m\u001b[0m\u001b[0;34m\u001b[0m\u001b[0m\n\u001b[0;32m-> 1511\u001b[0;31m             \u001b[0;32mreturn\u001b[0m \u001b[0mself\u001b[0m\u001b[0;34m.\u001b[0m\u001b[0m_call_impl\u001b[0m\u001b[0;34m(\u001b[0m\u001b[0;34m*\u001b[0m\u001b[0margs\u001b[0m\u001b[0;34m,\u001b[0m \u001b[0;34m**\u001b[0m\u001b[0mkwargs\u001b[0m\u001b[0;34m)\u001b[0m\u001b[0;34m\u001b[0m\u001b[0;34m\u001b[0m\u001b[0m\n\u001b[0m\u001b[1;32m   1512\u001b[0m \u001b[0;34m\u001b[0m\u001b[0m\n\u001b[1;32m   1513\u001b[0m     \u001b[0;32mdef\u001b[0m \u001b[0m_call_impl\u001b[0m\u001b[0;34m(\u001b[0m\u001b[0mself\u001b[0m\u001b[0;34m,\u001b[0m \u001b[0;34m*\u001b[0m\u001b[0margs\u001b[0m\u001b[0;34m,\u001b[0m \u001b[0;34m**\u001b[0m\u001b[0mkwargs\u001b[0m\u001b[0;34m)\u001b[0m\u001b[0;34m:\u001b[0m\u001b[0;34m\u001b[0m\u001b[0;34m\u001b[0m\u001b[0m\n",
            "\u001b[0;32m/usr/local/lib/python3.10/dist-packages/torch/nn/modules/module.py\u001b[0m in \u001b[0;36m_call_impl\u001b[0;34m(self, *args, **kwargs)\u001b[0m\n\u001b[1;32m   1518\u001b[0m                 \u001b[0;32mor\u001b[0m \u001b[0m_global_backward_pre_hooks\u001b[0m \u001b[0;32mor\u001b[0m \u001b[0m_global_backward_hooks\u001b[0m\u001b[0;34m\u001b[0m\u001b[0;34m\u001b[0m\u001b[0m\n\u001b[1;32m   1519\u001b[0m                 or _global_forward_hooks or _global_forward_pre_hooks):\n\u001b[0;32m-> 1520\u001b[0;31m             \u001b[0;32mreturn\u001b[0m \u001b[0mforward_call\u001b[0m\u001b[0;34m(\u001b[0m\u001b[0;34m*\u001b[0m\u001b[0margs\u001b[0m\u001b[0;34m,\u001b[0m \u001b[0;34m**\u001b[0m\u001b[0mkwargs\u001b[0m\u001b[0;34m)\u001b[0m\u001b[0;34m\u001b[0m\u001b[0;34m\u001b[0m\u001b[0m\n\u001b[0m\u001b[1;32m   1521\u001b[0m \u001b[0;34m\u001b[0m\u001b[0m\n\u001b[1;32m   1522\u001b[0m         \u001b[0;32mtry\u001b[0m\u001b[0;34m:\u001b[0m\u001b[0;34m\u001b[0m\u001b[0;34m\u001b[0m\u001b[0m\n",
            "\u001b[0;32m/usr/local/lib/python3.10/dist-packages/torch/nn/modules/batchnorm.py\u001b[0m in \u001b[0;36mforward\u001b[0;34m(self, input)\u001b[0m\n\u001b[1;32m    173\u001b[0m         \u001b[0mused\u001b[0m \u001b[0;32mfor\u001b[0m \u001b[0mnormalization\u001b[0m \u001b[0;34m(\u001b[0m\u001b[0mi\u001b[0m\u001b[0;34m.\u001b[0m\u001b[0me\u001b[0m\u001b[0;34m.\u001b[0m \u001b[0;32min\u001b[0m \u001b[0meval\u001b[0m \u001b[0mmode\u001b[0m \u001b[0mwhen\u001b[0m \u001b[0mbuffers\u001b[0m \u001b[0mare\u001b[0m \u001b[0;32mnot\u001b[0m \u001b[0;32mNone\u001b[0m\u001b[0;34m)\u001b[0m\u001b[0;34m.\u001b[0m\u001b[0;34m\u001b[0m\u001b[0;34m\u001b[0m\u001b[0m\n\u001b[1;32m    174\u001b[0m         \"\"\"\n\u001b[0;32m--> 175\u001b[0;31m         return F.batch_norm(\n\u001b[0m\u001b[1;32m    176\u001b[0m             \u001b[0minput\u001b[0m\u001b[0;34m,\u001b[0m\u001b[0;34m\u001b[0m\u001b[0;34m\u001b[0m\u001b[0m\n\u001b[1;32m    177\u001b[0m             \u001b[0;31m# If buffers are not to be tracked, ensure that they won't be updated\u001b[0m\u001b[0;34m\u001b[0m\u001b[0;34m\u001b[0m\u001b[0m\n",
            "\u001b[0;32m/usr/local/lib/python3.10/dist-packages/torch/nn/functional.py\u001b[0m in \u001b[0;36mbatch_norm\u001b[0;34m(input, running_mean, running_var, weight, bias, training, momentum, eps)\u001b[0m\n\u001b[1;32m   2480\u001b[0m         \u001b[0m_verify_batch_size\u001b[0m\u001b[0;34m(\u001b[0m\u001b[0minput\u001b[0m\u001b[0;34m.\u001b[0m\u001b[0msize\u001b[0m\u001b[0;34m(\u001b[0m\u001b[0;34m)\u001b[0m\u001b[0;34m)\u001b[0m\u001b[0;34m\u001b[0m\u001b[0;34m\u001b[0m\u001b[0m\n\u001b[1;32m   2481\u001b[0m \u001b[0;34m\u001b[0m\u001b[0m\n\u001b[0;32m-> 2482\u001b[0;31m     return torch.batch_norm(\n\u001b[0m\u001b[1;32m   2483\u001b[0m         \u001b[0minput\u001b[0m\u001b[0;34m,\u001b[0m \u001b[0mweight\u001b[0m\u001b[0;34m,\u001b[0m \u001b[0mbias\u001b[0m\u001b[0;34m,\u001b[0m \u001b[0mrunning_mean\u001b[0m\u001b[0;34m,\u001b[0m \u001b[0mrunning_var\u001b[0m\u001b[0;34m,\u001b[0m \u001b[0mtraining\u001b[0m\u001b[0;34m,\u001b[0m \u001b[0mmomentum\u001b[0m\u001b[0;34m,\u001b[0m \u001b[0meps\u001b[0m\u001b[0;34m,\u001b[0m \u001b[0mtorch\u001b[0m\u001b[0;34m.\u001b[0m\u001b[0mbackends\u001b[0m\u001b[0;34m.\u001b[0m\u001b[0mcudnn\u001b[0m\u001b[0;34m.\u001b[0m\u001b[0menabled\u001b[0m\u001b[0;34m\u001b[0m\u001b[0;34m\u001b[0m\u001b[0m\n\u001b[1;32m   2484\u001b[0m     )\n",
            "\u001b[0;31mKeyboardInterrupt\u001b[0m: "
          ]
        }
      ]
    }
  ]
}